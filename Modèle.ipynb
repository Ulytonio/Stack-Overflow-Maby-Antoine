{
 "cells": [
  {
   "cell_type": "code",
   "execution_count": 1,
   "id": "4f06ab3e",
   "metadata": {},
   "outputs": [],
   "source": [
    "import pandas as pd\n",
    "import matplotlib.pyplot as plt\n",
    "import seaborn as sns\n",
    "import numpy as np\n",
    "from ast import literal_eval\n",
    "\n",
    "pd.set_option('display.max_columns', 500)\n",
    "\n",
    "# Chargement des données\n",
    "\n",
    "data = pd.read_csv(\"data.csv\",sep=\";\",converters={\"Title\": literal_eval,\n",
    "                               \"Body\": literal_eval,\n",
    "                               \"Tags_list_bis\": literal_eval,\n",
    "                                \"Total\":literal_eval})\n",
    "data.set_index('Id', inplace=True)"
   ]
  },
  {
   "cell_type": "markdown",
   "id": "f213e7b5",
   "metadata": {},
   "source": [
    "# Partie 1 : Preprocessing"
   ]
  },
  {
   "cell_type": "markdown",
   "id": "19d3eb10",
   "metadata": {},
   "source": [
    "## Modèle non supervisé"
   ]
  },
  {
   "cell_type": "raw",
   "id": "098fc016",
   "metadata": {},
   "source": [
    "Nous allons dans un premier temps preprocess notre corpus de mots. Pour cela, nous allons utilisé Tf-idf de la librairie Scikit-Learn pour les modèles supervisés. \n",
    "Pour le modèle non supervisé, nous allons utilisé la librairie Gensim"
   ]
  },
  {
   "cell_type": "code",
   "execution_count": 2,
   "id": "7d3996c0",
   "metadata": {},
   "outputs": [],
   "source": [
    "from sklearn.model_selection import train_test_split\n",
    "\n",
    "data_train , data_test = train_test_split(data,  test_size=0.1, random_state=42)"
   ]
  },
  {
   "cell_type": "code",
   "execution_count": 3,
   "id": "fe348696",
   "metadata": {},
   "outputs": [],
   "source": [
    "X = data['Total']\n",
    "y = data['Tags_list_bis']\n",
    "\n",
    "X_train = data_train['Total']\n",
    "X_test = data_test['Total']\n",
    "y_train = data_train['Tags_list_bis']\n",
    "y_test = data_test['Tags_list_bis']"
   ]
  },
  {
   "cell_type": "code",
   "execution_count": 4,
   "id": "7db002aa",
   "metadata": {},
   "outputs": [],
   "source": [
    "import gensim\n",
    "import gensim.corpora as corpora\n",
    "from gensim.utils import simple_preprocess\n",
    "from gensim.models import CoherenceModel\n",
    "\n",
    "id2word = corpora.Dictionary(X)\n",
    "\n",
    "texts = X  \n",
    "\n",
    "corpus = [id2word.doc2bow(text) for text in texts] "
   ]
  },
  {
   "cell_type": "code",
   "execution_count": 5,
   "id": "1811d731",
   "metadata": {},
   "outputs": [],
   "source": [
    "texts_test = X_test  \n",
    "\n",
    "corpus_test = [id2word.doc2bow(text) for text in texts_test] "
   ]
  },
  {
   "cell_type": "markdown",
   "id": "80087673",
   "metadata": {},
   "source": [
    "## Modèle supervisé"
   ]
  },
  {
   "cell_type": "code",
   "execution_count": 6,
   "id": "c81d3cd2",
   "metadata": {},
   "outputs": [],
   "source": [
    "from sklearn.feature_extraction.text import TfidfVectorizer\n",
    "\n",
    "vectorizer = TfidfVectorizer(analyzer=\"word\",\n",
    "                             max_df=.8,\n",
    "                             min_df=0.005,\n",
    "                             tokenizer=None,\n",
    "                             preprocessor=' '.join,\n",
    "                             stop_words=None,\n",
    "                             lowercase=False)\n",
    "\n",
    "vectorizer.fit(X)\n",
    "\n",
    "X_train = vectorizer.transform(X_train)\n",
    "X_test = vectorizer.transform(X_test)"
   ]
  },
  {
   "cell_type": "code",
   "execution_count": 7,
   "id": "2a421aa1",
   "metadata": {},
   "outputs": [],
   "source": [
    "from sklearn.preprocessing import MultiLabelBinarizer\n",
    "\n",
    "multilabel_binarizer = MultiLabelBinarizer()\n",
    "multilabel_binarizer.fit(y)\n",
    "y_train = multilabel_binarizer.transform(y_train)\n",
    "y_test = multilabel_binarizer.transform(y_test)"
   ]
  },
  {
   "cell_type": "markdown",
   "id": "1f1e9f1f",
   "metadata": {},
   "source": [
    "# Partie 2 : Modèle non supervisé"
   ]
  },
  {
   "cell_type": "markdown",
   "id": "ba6c71b2",
   "metadata": {},
   "source": [
    "## Test du Modèle LDA"
   ]
  },
  {
   "cell_type": "raw",
   "id": "3dffd9a7",
   "metadata": {},
   "source": [
    "Nous allons utiliser le modèle LatentDirichletAllocation. Dans un premier temps, testons le modèle avec 20 topics. Nous déterminerons le nombre optimal de Topic dans un second temps."
   ]
  },
  {
   "cell_type": "code",
   "execution_count": 8,
   "id": "7ee394a0",
   "metadata": {},
   "outputs": [
    {
     "name": "stdout",
     "output_type": "stream",
     "text": [
      "\n",
      "Coherence Score:  0.4620099473602074\n"
     ]
    }
   ],
   "source": [
    "full_lda_model = gensim.models.LdaModel(corpus=corpus,\n",
    "                                  id2word=id2word,\n",
    "                                  num_topics=20)\n",
    "\n",
    "coherence_model_lda = CoherenceModel(model=full_lda_model, \n",
    "                                     texts=texts, \n",
    "                                     dictionary=id2word, \n",
    "                                     coherence='c_v')\n",
    "\n",
    "coherence_lda = coherence_model_lda.get_coherence()\n",
    "\n",
    "print('\\nCoherence Score: ', coherence_lda)"
   ]
  },
  {
   "cell_type": "code",
   "execution_count": 9,
   "id": "2ce3709b",
   "metadata": {},
   "outputs": [],
   "source": [
    "# Création d'une fonction qui permet de voir les mots les plus communs dans chaque Topic\n",
    "\n",
    "def plot_top_words_bis(model, feature_names, n_top_words, title):\n",
    "    fig, axes = plt.subplots(4, 5, figsize=(30, 15), sharex=True)\n",
    "    axes = axes.flatten()\n",
    "    for topic_idx, topic in enumerate(model.get_topics()):\n",
    "        top_features_ind = topic.argsort()[:-n_top_words - 1:-1]\n",
    "        top_features = [feature_names[i] for i in top_features_ind]\n",
    "        weights = topic[top_features_ind]\n",
    "\n",
    "        ax = axes[topic_idx]\n",
    "        ax.barh(top_features, weights, height=0.7)\n",
    "        ax.set_title(f'Topic {topic_idx +1}',\n",
    "                     fontdict={'fontsize': 30})\n",
    "        ax.invert_yaxis()\n",
    "        ax.tick_params(axis='both', which='major', labelsize=20)\n",
    "        for i in 'top right left'.split():\n",
    "            ax.spines[i].set_visible(False)\n",
    "        fig.suptitle(title, fontsize=40)\n",
    "\n",
    "    plt.subplots_adjust(top=0.90, bottom=0.05, wspace=0.90, hspace=0.3)\n",
    "    plt.show()"
   ]
  },
  {
   "cell_type": "code",
   "execution_count": 10,
   "id": "5b4e024e",
   "metadata": {},
   "outputs": [
    {
     "data": {
      "image/png": "[encoded data removed]",
      "text/plain": [
       "<Figure size 2160x1080 with 20 Axes>"
      ]
     },
     "metadata": {
      "needs_background": "light"
     },
     "output_type": "display_data"
    }
   ],
   "source": [
    "plot_top_words_bis(full_lda_model, id2word, 10, 'Topics in LDA model')"
   ]
  },
  {
   "cell_type": "raw",
   "id": "31bec602",
   "metadata": {},
   "source": [
    "D'après les résultats que nous voyons si dessus, il est difficile de nommer simplement chaque Topic. Nous allons donc devoir utiliser une méthode pour nommer chacun des Topics et pouvoir en déterminer des prédictions de tags.\n",
    "\n",
    "Nous allons maintenant passer à l'optimisagtion du nombre de Topic. Pour cela, nous allons utiliser le Score de Cohérence disponible dans la librairie Gensim"
   ]
  },
  {
   "cell_type": "markdown",
   "id": "61c17586",
   "metadata": {},
   "source": [
    "## Optimisation du nombre de Topics"
   ]
  },
  {
   "cell_type": "code",
   "execution_count": 11,
   "id": "1d84c705",
   "metadata": {},
   "outputs": [],
   "source": [
    "coherence_test = []\n",
    "for k in np.arange(1,61,10):\n",
    "    lda_model = gensim.models.LdaModel(corpus=corpus,\n",
    "                                      id2word=id2word,\n",
    "                                      random_state=27,\n",
    "                                      num_topics=k)\n",
    "\n",
    "    coherence_model_lda = CoherenceModel(model=lda_model,\n",
    "                                         texts=texts,\n",
    "                                         dictionary=id2word,\n",
    "                                         coherence='c_v')\n",
    "    coherence_lda = coherence_model_lda.get_coherence()\n",
    "    coherence_test.append((k, coherence_lda))"
   ]
  },
  {
   "cell_type": "code",
   "execution_count": 13,
   "id": "2e9063c8",
   "metadata": {},
   "outputs": [
    {
     "data": {
      "image/png": "[encoded data removed]",
      "text/plain": [
       "<Figure size 864x576 with 1 Axes>"
      ]
     },
     "metadata": {
      "needs_background": "light"
     },
     "output_type": "display_data"
    }
   ],
   "source": [
    "coherence_test = pd.DataFrame(coherence_test,\n",
    "                              columns=[\"k\",\"coherence\"])\n",
    "\n",
    "fig, ax1 = plt.subplots(figsize=(12,8))\n",
    "x = coherence_test[\"k\"]\n",
    "y1 = coherence_test[\"coherence\"]\n",
    "\n",
    "ax1.plot(x, y1, label=\"Coherence score\")\n",
    "\n",
    "ax1.set_xlabel(\"Nombres de Topics\")\n",
    "ax1.set_ylabel(\"Coherence score\")\n",
    "fig.tight_layout()\n",
    "plt.show()"
   ]
  },
  {
   "cell_type": "raw",
   "id": "bfb13b4c",
   "metadata": {},
   "source": [
    "Le plus grand Cohérence score est optenu pour 21 Topics. Comme nous avons pris un intervalle de 10 entre chaque itérations, nous allons refaire une deuxième routine pour affiner le meilleur nombre de Topic en prenant des intervalles plus réduits autour de 20"
   ]
  },
  {
   "cell_type": "code",
   "execution_count": 14,
   "id": "bd8684c1",
   "metadata": {},
   "outputs": [],
   "source": [
    "coherence_test = []\n",
    "for k in np.arange(16,24,1):\n",
    "    lda_model = gensim.models.LdaModel(corpus=corpus,\n",
    "                                       id2word=id2word,\n",
    "                                       random_state=27,\n",
    "                                       num_topics=k)\n",
    "    \n",
    "    coherence_model_lda = CoherenceModel(model=lda_model,\n",
    "                                         texts=texts,\n",
    "                                         dictionary=id2word,\n",
    "                                         coherence='c_v')\n",
    "    coherence_lda = coherence_model_lda.get_coherence()\n",
    "    coherence_test.append((k, coherence_lda))"
   ]
  },
  {
   "cell_type": "code",
   "execution_count": 16,
   "id": "ec90fc1a",
   "metadata": {},
   "outputs": [
    {
     "data": {
      "image/png": "[encoded data removed]",
      "text/plain": [
       "<Figure size 864x576 with 1 Axes>"
      ]
     },
     "metadata": {
      "needs_background": "light"
     },
     "output_type": "display_data"
    }
   ],
   "source": [
    "coherence_test = pd.DataFrame(coherence_test,\n",
    "                              columns=[\"k\",\"coherence\"])\n",
    "\n",
    "fig, ax1 = plt.subplots(figsize=(12,8))\n",
    "x = coherence_test[\"k\"]\n",
    "y1 = coherence_test[\"coherence\"]\n",
    "\n",
    "ax1.plot(x, y1, label=\"Coherence score\")\n",
    "\n",
    "ax1.set_xlabel(\"Nombres de Topics\")\n",
    "\n",
    "ax1.set_ylabel(\"Coherence score\")\n",
    "\n",
    "fig.tight_layout()\n",
    "plt.show()"
   ]
  },
  {
   "cell_type": "raw",
   "id": "4ac23a4a",
   "metadata": {},
   "source": [
    "Nous pouvons observer que le nombre optimal de Topics pour notre modèle LDA est de 20. Testons maintenant ce modèle."
   ]
  },
  {
   "cell_type": "code",
   "execution_count": 25,
   "id": "a6ffdf74",
   "metadata": {},
   "outputs": [],
   "source": [
    "lda_model_final = gensim.models.LdaModel(corpus=corpus,\n",
    "                                         id2word=id2word,\n",
    "                                         num_topics=17,\n",
    "                                         random_state=27)"
   ]
  },
  {
   "cell_type": "code",
   "execution_count": 26,
   "id": "f7c99708",
   "metadata": {},
   "outputs": [
    {
     "data": {
      "image/png": "[encoded data removed]",
      "text/plain": [
       "<Figure size 2160x1080 with 20 Axes>"
      ]
     },
     "metadata": {
      "needs_background": "light"
     },
     "output_type": "display_data"
    }
   ],
   "source": [
    "plot_top_words_bis(lda_model_final, id2word, 10, 'Topics in LDA model')"
   ]
  },
  {
   "cell_type": "markdown",
   "id": "4e785e78",
   "metadata": {},
   "source": [
    "## Création du modèle de prédictions "
   ]
  },
  {
   "cell_type": "raw",
   "id": "41996d39",
   "metadata": {},
   "source": [
    "Comme nous l'avons dit précédement mais il est difficile de nommer les Topics seulements avec les mots obtenu ci-dessus. Pour cela, nous allons filtre les mots de chaque Topics avec les principaux Tags que nous avons gardé."
   ]
  },
  {
   "cell_type": "code",
   "execution_count": 27,
   "id": "9b93eb89",
   "metadata": {},
   "outputs": [],
   "source": [
    "id2word_bis = [id2word[i] for i in range(0,len(id2word))]"
   ]
  },
  {
   "cell_type": "code",
   "execution_count": 28,
   "id": "b535c28d",
   "metadata": {},
   "outputs": [
    {
     "name": "stdout",
     "output_type": "stream",
     "text": [
      "Le jeu de données compte 50 tags.\n"
     ]
    }
   ],
   "source": [
    "def filter_tag(x, top_list):\n",
    "    temp_list = []\n",
    "    for item in x:\n",
    "        if (item in top_list):\n",
    "            temp_list.append(item)\n",
    "    return temp_list\n",
    "\n",
    "def count_split_tags(df, column):\n",
    "    list_words = []\n",
    "    for word in df[column]:\n",
    "        list_words.extend(word)\n",
    "    df_list_words = pd.DataFrame(list_words, columns=[\"Tag\"])\n",
    "    df_list_words = df_list_words.groupby(\"Tag\")\\\n",
    "        .agg(tag_count=pd.NamedAgg(column=\"Tag\", aggfunc=\"count\"))\n",
    "    df_list_words.sort_values(\"tag_count\", ascending=False, inplace=True)\n",
    "    return df_list_words\n",
    "\n",
    "tags_list = count_split_tags(df=data, column='Tags_list_bis')\n",
    "print(\"Le jeu de données compte {} tags.\".format(tags_list.shape[0]))\n",
    "list_tag = tags_list.iloc[0:50].index"
   ]
  },
  {
   "cell_type": "code",
   "execution_count": 29,
   "id": "fd519c43",
   "metadata": {},
   "outputs": [],
   "source": [
    "id2word_bis = filter_tag(id2word_bis,list_tag)"
   ]
  },
  {
   "cell_type": "code",
   "execution_count": 30,
   "id": "f43d4322",
   "metadata": {},
   "outputs": [
    {
     "name": "stdout",
     "output_type": "stream",
     "text": [
      "['php', 'json']\n",
      "['html', 'javascript', 'jquery']\n",
      "['git', 'ruby']\n",
      "['spring', 'mysql']\n",
      "[]\n",
      "['android', 'xcode', 'iphone']\n",
      "['macos', 'linux', 'c++', 'r']\n",
      "['list', 'algorithm', 'python', 'r', 'c']\n",
      "['performance']\n",
      "['c', 'list', 'string', 'python']\n",
      "['c', 'c++']\n",
      "['sql', 'mysql', 'list']\n",
      "['python', 'r', 'c']\n",
      "['string', 'java', 'list', 'spring']\n",
      "['string', 'json', 'c', 'javascript', 'regex', 'list', 'python', 'java']\n",
      "['java', 'c', 'c++', 'python', 'javascript']\n",
      "[]\n"
     ]
    }
   ],
   "source": [
    "i = 0\n",
    "feature_topic = {}\n",
    "\n",
    "for topic_idx, topic in enumerate(lda_model_final.get_topics()):\n",
    "        top_features_ind = topic.argsort()[:-150 - 1:-1]\n",
    "        top_features = [id2word[i] for i in top_features_ind]\n",
    "        top_features = filter_tag(top_features,list_tag)\n",
    "        feature_topic[i] = top_features\n",
    "        i = i + 1\n",
    "        print(top_features)"
   ]
  },
  {
   "cell_type": "raw",
   "id": "b2d66234",
   "metadata": {},
   "source": [
    "Nous avons maintenant de meilleurs Topics. Malheuresement, ceci n'est toujours pas suffisant car comme on peut le vooir certains Topics ne semblent toujours être mélanger. Par exemple, nous avons un topic [c, python, r].\n",
    "\n",
    "Pour éviter ce problème, nous allons prendre l'intersection entre ces prédictions de Topics et le contenu de chaque post. Et c'est comme cela que nous allons déterminer les prédictions de Tags de nos posts"
   ]
  },
  {
   "cell_type": "code",
   "execution_count": 31,
   "id": "9aedc079",
   "metadata": {},
   "outputs": [],
   "source": [
    "y = data[\"Tags_list_bis\"]"
   ]
  },
  {
   "cell_type": "code",
   "execution_count": 32,
   "id": "d3ba5433",
   "metadata": {},
   "outputs": [],
   "source": [
    "doc_topic = pd.DataFrame(lda_model_final.get_document_topics(corpus,minimum_probability=0))"
   ]
  },
  {
   "cell_type": "code",
   "execution_count": 33,
   "id": "50c6dc9d",
   "metadata": {},
   "outputs": [],
   "source": [
    "for topic in doc_topic.columns:\n",
    "    doc_topic[topic] = doc_topic[topic].apply(lambda x : x[1])"
   ]
  },
  {
   "cell_type": "code",
   "execution_count": 34,
   "id": "9ac8475b",
   "metadata": {},
   "outputs": [],
   "source": [
    "y_results = pd.DataFrame(y)\n",
    "y_results['best_topic'] = doc_topic.idxmax(axis=1).values\n",
    "y_results[\"nb_tags\"] = y_results[\"Tags_list_bis\"].apply(lambda x : len(x))"
   ]
  },
  {
   "cell_type": "code",
   "execution_count": 35,
   "id": "6ab0fdf0",
   "metadata": {},
   "outputs": [],
   "source": [
    "y_results[\"Body\"] = data[\"Total\"]"
   ]
  },
  {
   "cell_type": "code",
   "execution_count": 36,
   "id": "5d24f615",
   "metadata": {},
   "outputs": [],
   "source": [
    "list_test = ['best_topic']\n",
    "tag_predict = []\n",
    "list_temp = []\n",
    "list_temp2 = []\n",
    "\n",
    "for i,j in zip(y_results['best_topic'],y_results['Body']):\n",
    "        list_temp = feature_topic[i]\n",
    "        for words1 in list_temp:\n",
    "            for words2 in j:\n",
    "                if words1 == words2 and words1 not in list_temp2 :\n",
    "                    list_temp2.append(words1)\n",
    "            \n",
    "        tag_predict.append(list_temp2)\n",
    "        list_temp2= []"
   ]
  },
  {
   "cell_type": "code",
   "execution_count": 37,
   "id": "736b0216",
   "metadata": {},
   "outputs": [],
   "source": [
    "y_results[\"Tags_predict\"] = tag_predict"
   ]
  },
  {
   "cell_type": "code",
   "execution_count": 38,
   "id": "f1e2bb06",
   "metadata": {},
   "outputs": [
    {
     "data": {
      "text/html": [
       "<div>\n",
       "<style scoped>\n",
       "    .dataframe tbody tr th:only-of-type {\n",
       "        vertical-align: middle;\n",
       "    }\n",
       "\n",
       "    .dataframe tbody tr th {\n",
       "        vertical-align: top;\n",
       "    }\n",
       "\n",
       "    .dataframe thead th {\n",
       "        text-align: right;\n",
       "    }\n",
       "</style>\n",
       "<table border=\"1\" class=\"dataframe\">\n",
       "  <thead>\n",
       "    <tr style=\"text-align: right;\">\n",
       "      <th></th>\n",
       "      <th>Tags_list_bis</th>\n",
       "      <th>best_topic</th>\n",
       "      <th>nb_tags</th>\n",
       "      <th>Body</th>\n",
       "      <th>Tags_predict</th>\n",
       "    </tr>\n",
       "    <tr>\n",
       "      <th>Id</th>\n",
       "      <th></th>\n",
       "      <th></th>\n",
       "      <th></th>\n",
       "      <th></th>\n",
       "      <th></th>\n",
       "    </tr>\n",
       "  </thead>\n",
       "  <tbody>\n",
       "    <tr>\n",
       "      <th>13620</th>\n",
       "      <td>[php, optimization, performance]</td>\n",
       "      <td>10</td>\n",
       "      <td>3</td>\n",
       "      <td>[speed, difference, using, inline, string, v, ...</td>\n",
       "      <td>[]</td>\n",
       "    </tr>\n",
       "    <tr>\n",
       "      <th>39561</th>\n",
       "      <td>[visual-studio]</td>\n",
       "      <td>1</td>\n",
       "      <td>1</td>\n",
       "      <td>[visual, studio, keep, first, curly, brace, li...</td>\n",
       "      <td>[]</td>\n",
       "    </tr>\n",
       "    <tr>\n",
       "      <th>38288</th>\n",
       "      <td>[linux]</td>\n",
       "      <td>12</td>\n",
       "      <td>1</td>\n",
       "      <td>[add, user, ubuntu, specifically, command, run...</td>\n",
       "      <td>[]</td>\n",
       "    </tr>\n",
       "    <tr>\n",
       "      <th>40480</th>\n",
       "      <td>[java]</td>\n",
       "      <td>8</td>\n",
       "      <td>1</td>\n",
       "      <td>[java, passbyreference, passbyvalue, always, t...</td>\n",
       "      <td>[]</td>\n",
       "    </tr>\n",
       "    <tr>\n",
       "      <th>41400</th>\n",
       "      <td>[c++, c]</td>\n",
       "      <td>10</td>\n",
       "      <td>2</td>\n",
       "      <td>[wrap, function, variable, length, argument, l...</td>\n",
       "      <td>[c]</td>\n",
       "    </tr>\n",
       "    <tr>\n",
       "      <th>...</th>\n",
       "      <td>...</td>\n",
       "      <td>...</td>\n",
       "      <td>...</td>\n",
       "      <td>...</td>\n",
       "      <td>...</td>\n",
       "    </tr>\n",
       "    <tr>\n",
       "      <th>66507206</th>\n",
       "      <td>[python, python-3.x]</td>\n",
       "      <td>12</td>\n",
       "      <td>2</td>\n",
       "      <td>[quickly, get, last, line, huge, csv, file, li...</td>\n",
       "      <td>[]</td>\n",
       "    </tr>\n",
       "    <tr>\n",
       "      <th>66506475</th>\n",
       "      <td>[c++, multithreading, c++11]</td>\n",
       "      <td>8</td>\n",
       "      <td>3</td>\n",
       "      <td>[mutex, stdmutex, heavy, quite, often, site, f...</td>\n",
       "      <td>[]</td>\n",
       "    </tr>\n",
       "    <tr>\n",
       "      <th>66523786</th>\n",
       "      <td>[ios, swift, xcode]</td>\n",
       "      <td>1</td>\n",
       "      <td>3</td>\n",
       "      <td>[swiftui, putting, lazyvstack, lazyhstack, scr...</td>\n",
       "      <td>[]</td>\n",
       "    </tr>\n",
       "    <tr>\n",
       "      <th>66525874</th>\n",
       "      <td>[c++, c]</td>\n",
       "      <td>10</td>\n",
       "      <td>2</td>\n",
       "      <td>[behavior, loop, split, switch, case, playing,...</td>\n",
       "      <td>[]</td>\n",
       "    </tr>\n",
       "    <tr>\n",
       "      <th>66538407</th>\n",
       "      <td>[python]</td>\n",
       "      <td>12</td>\n",
       "      <td>1</td>\n",
       "      <td>[unable, import, pytorch_lightning, google, co...</td>\n",
       "      <td>[]</td>\n",
       "    </tr>\n",
       "  </tbody>\n",
       "</table>\n",
       "<p>119758 rows × 5 columns</p>\n",
       "</div>"
      ],
      "text/plain": [
       "                             Tags_list_bis  best_topic  nb_tags  \\\n",
       "Id                                                                \n",
       "13620     [php, optimization, performance]          10        3   \n",
       "39561                      [visual-studio]           1        1   \n",
       "38288                              [linux]          12        1   \n",
       "40480                               [java]           8        1   \n",
       "41400                             [c++, c]          10        2   \n",
       "...                                    ...         ...      ...   \n",
       "66507206              [python, python-3.x]          12        2   \n",
       "66506475      [c++, multithreading, c++11]           8        3   \n",
       "66523786               [ios, swift, xcode]           1        3   \n",
       "66525874                          [c++, c]          10        2   \n",
       "66538407                          [python]          12        1   \n",
       "\n",
       "                                                       Body Tags_predict  \n",
       "Id                                                                        \n",
       "13620     [speed, difference, using, inline, string, v, ...           []  \n",
       "39561     [visual, studio, keep, first, curly, brace, li...           []  \n",
       "38288     [add, user, ubuntu, specifically, command, run...           []  \n",
       "40480     [java, passbyreference, passbyvalue, always, t...           []  \n",
       "41400     [wrap, function, variable, length, argument, l...          [c]  \n",
       "...                                                     ...          ...  \n",
       "66507206  [quickly, get, last, line, huge, csv, file, li...           []  \n",
       "66506475  [mutex, stdmutex, heavy, quite, often, site, f...           []  \n",
       "66523786  [swiftui, putting, lazyvstack, lazyhstack, scr...           []  \n",
       "66525874  [behavior, loop, split, switch, case, playing,...           []  \n",
       "66538407  [unable, import, pytorch_lightning, google, co...           []  \n",
       "\n",
       "[119758 rows x 5 columns]"
      ]
     },
     "execution_count": 38,
     "metadata": {},
     "output_type": "execute_result"
    }
   ],
   "source": [
    "y_results"
   ]
  },
  {
   "cell_type": "markdown",
   "id": "9722487a",
   "metadata": {},
   "source": [
    "## Performance"
   ]
  },
  {
   "cell_type": "raw",
   "id": "617497ed",
   "metadata": {},
   "source": [
    "La colonne Tags_predict est donc la prédiction des tags que nous pouvons faire à partir du modèle LDA.\n",
    "\n",
    "Nous allons maintenant tester les performances de notre modèle en regardant l'accuracy. Nous allons tester trois types d'accuracy. \n",
    "\n",
    "La première est une d'accuracy moyenne. Nous vérifions si les tags sont justes et prenons le rapport sur le nombre de tags du post. C'est à dire si nous avons prédit, 1 tags juste sur les deux de départs, le score est de 0.5\n",
    "\n",
    "La deuxième accuracy est une accuracy faible. C'est à dire que si nous prédisons correctement un tag parmis les tags de réels, nous comptons 1\n",
    "\n",
    "La troisème accuracy est une accuracy forte. C'est à dire si nous ne prédisons pas tous les tags, nous prenons le score 0."
   ]
  },
  {
   "cell_type": "code",
   "execution_count": 39,
   "id": "0eb7e279",
   "metadata": {},
   "outputs": [],
   "source": [
    "intersection1 = []\n",
    "intersection2 = []\n",
    "list_temp = []\n",
    "\n",
    "for i,j in zip(y_results['Tags_list_bis'],y_results['Tags_predict']):\n",
    "    for words1 in i:\n",
    "            for words2 in j:\n",
    "                if words1 == words2:\n",
    "                    list_temp.append(words1)\n",
    "    intersection1.append(list_temp)\n",
    "    list_temp = []"
   ]
  },
  {
   "cell_type": "code",
   "execution_count": 40,
   "id": "c4a50900",
   "metadata": {},
   "outputs": [],
   "source": [
    "y_results[\"Intersection_predict\"] = intersection1"
   ]
  },
  {
   "cell_type": "code",
   "execution_count": 41,
   "id": "324aa969",
   "metadata": {},
   "outputs": [],
   "source": [
    "y_results['nombre_predict'] =[len(x) for x in y_results['Intersection_predict']]"
   ]
  },
  {
   "cell_type": "code",
   "execution_count": 42,
   "id": "4cbb7ca6",
   "metadata": {},
   "outputs": [],
   "source": [
    "list_accuracy = []\n",
    "\n",
    "for i,j in zip(y_results['nb_tags'],y_results['nombre_predict']):\n",
    "    if i == j:\n",
    "        list_accuracy.append(1)\n",
    "    else:\n",
    "        list_accuracy.append(0)\n"
   ]
  },
  {
   "cell_type": "code",
   "execution_count": 43,
   "id": "93b464f0",
   "metadata": {},
   "outputs": [],
   "source": [
    "y_results['Nb_tags_predict'] = list_accuracy"
   ]
  },
  {
   "cell_type": "code",
   "execution_count": 44,
   "id": "15309bbd",
   "metadata": {},
   "outputs": [
    {
     "data": {
      "text/html": [
       "<div>\n",
       "<style scoped>\n",
       "    .dataframe tbody tr th:only-of-type {\n",
       "        vertical-align: middle;\n",
       "    }\n",
       "\n",
       "    .dataframe tbody tr th {\n",
       "        vertical-align: top;\n",
       "    }\n",
       "\n",
       "    .dataframe thead th {\n",
       "        text-align: right;\n",
       "    }\n",
       "</style>\n",
       "<table border=\"1\" class=\"dataframe\">\n",
       "  <thead>\n",
       "    <tr style=\"text-align: right;\">\n",
       "      <th></th>\n",
       "      <th>Tags_list_bis</th>\n",
       "      <th>best_topic</th>\n",
       "      <th>nb_tags</th>\n",
       "      <th>Body</th>\n",
       "      <th>Tags_predict</th>\n",
       "      <th>Intersection_predict</th>\n",
       "      <th>nombre_predict</th>\n",
       "      <th>Nb_tags_predict</th>\n",
       "    </tr>\n",
       "    <tr>\n",
       "      <th>Id</th>\n",
       "      <th></th>\n",
       "      <th></th>\n",
       "      <th></th>\n",
       "      <th></th>\n",
       "      <th></th>\n",
       "      <th></th>\n",
       "      <th></th>\n",
       "      <th></th>\n",
       "    </tr>\n",
       "  </thead>\n",
       "  <tbody>\n",
       "    <tr>\n",
       "      <th>13620</th>\n",
       "      <td>[php, optimization, performance]</td>\n",
       "      <td>10</td>\n",
       "      <td>3</td>\n",
       "      <td>[speed, difference, using, inline, string, v, ...</td>\n",
       "      <td>[]</td>\n",
       "      <td>[]</td>\n",
       "      <td>0</td>\n",
       "      <td>0</td>\n",
       "    </tr>\n",
       "    <tr>\n",
       "      <th>39561</th>\n",
       "      <td>[visual-studio]</td>\n",
       "      <td>1</td>\n",
       "      <td>1</td>\n",
       "      <td>[visual, studio, keep, first, curly, brace, li...</td>\n",
       "      <td>[]</td>\n",
       "      <td>[]</td>\n",
       "      <td>0</td>\n",
       "      <td>0</td>\n",
       "    </tr>\n",
       "    <tr>\n",
       "      <th>38288</th>\n",
       "      <td>[linux]</td>\n",
       "      <td>12</td>\n",
       "      <td>1</td>\n",
       "      <td>[add, user, ubuntu, specifically, command, run...</td>\n",
       "      <td>[]</td>\n",
       "      <td>[]</td>\n",
       "      <td>0</td>\n",
       "      <td>0</td>\n",
       "    </tr>\n",
       "    <tr>\n",
       "      <th>40480</th>\n",
       "      <td>[java]</td>\n",
       "      <td>8</td>\n",
       "      <td>1</td>\n",
       "      <td>[java, passbyreference, passbyvalue, always, t...</td>\n",
       "      <td>[]</td>\n",
       "      <td>[]</td>\n",
       "      <td>0</td>\n",
       "      <td>0</td>\n",
       "    </tr>\n",
       "    <tr>\n",
       "      <th>41400</th>\n",
       "      <td>[c++, c]</td>\n",
       "      <td>10</td>\n",
       "      <td>2</td>\n",
       "      <td>[wrap, function, variable, length, argument, l...</td>\n",
       "      <td>[c]</td>\n",
       "      <td>[c]</td>\n",
       "      <td>1</td>\n",
       "      <td>0</td>\n",
       "    </tr>\n",
       "    <tr>\n",
       "      <th>...</th>\n",
       "      <td>...</td>\n",
       "      <td>...</td>\n",
       "      <td>...</td>\n",
       "      <td>...</td>\n",
       "      <td>...</td>\n",
       "      <td>...</td>\n",
       "      <td>...</td>\n",
       "      <td>...</td>\n",
       "    </tr>\n",
       "    <tr>\n",
       "      <th>66507206</th>\n",
       "      <td>[python, python-3.x]</td>\n",
       "      <td>12</td>\n",
       "      <td>2</td>\n",
       "      <td>[quickly, get, last, line, huge, csv, file, li...</td>\n",
       "      <td>[]</td>\n",
       "      <td>[]</td>\n",
       "      <td>0</td>\n",
       "      <td>0</td>\n",
       "    </tr>\n",
       "    <tr>\n",
       "      <th>66506475</th>\n",
       "      <td>[c++, multithreading, c++11]</td>\n",
       "      <td>8</td>\n",
       "      <td>3</td>\n",
       "      <td>[mutex, stdmutex, heavy, quite, often, site, f...</td>\n",
       "      <td>[]</td>\n",
       "      <td>[]</td>\n",
       "      <td>0</td>\n",
       "      <td>0</td>\n",
       "    </tr>\n",
       "    <tr>\n",
       "      <th>66523786</th>\n",
       "      <td>[ios, swift, xcode]</td>\n",
       "      <td>1</td>\n",
       "      <td>3</td>\n",
       "      <td>[swiftui, putting, lazyvstack, lazyhstack, scr...</td>\n",
       "      <td>[]</td>\n",
       "      <td>[]</td>\n",
       "      <td>0</td>\n",
       "      <td>0</td>\n",
       "    </tr>\n",
       "    <tr>\n",
       "      <th>66525874</th>\n",
       "      <td>[c++, c]</td>\n",
       "      <td>10</td>\n",
       "      <td>2</td>\n",
       "      <td>[behavior, loop, split, switch, case, playing,...</td>\n",
       "      <td>[]</td>\n",
       "      <td>[]</td>\n",
       "      <td>0</td>\n",
       "      <td>0</td>\n",
       "    </tr>\n",
       "    <tr>\n",
       "      <th>66538407</th>\n",
       "      <td>[python]</td>\n",
       "      <td>12</td>\n",
       "      <td>1</td>\n",
       "      <td>[unable, import, pytorch_lightning, google, co...</td>\n",
       "      <td>[]</td>\n",
       "      <td>[]</td>\n",
       "      <td>0</td>\n",
       "      <td>0</td>\n",
       "    </tr>\n",
       "  </tbody>\n",
       "</table>\n",
       "<p>119758 rows × 8 columns</p>\n",
       "</div>"
      ],
      "text/plain": [
       "                             Tags_list_bis  best_topic  nb_tags  \\\n",
       "Id                                                                \n",
       "13620     [php, optimization, performance]          10        3   \n",
       "39561                      [visual-studio]           1        1   \n",
       "38288                              [linux]          12        1   \n",
       "40480                               [java]           8        1   \n",
       "41400                             [c++, c]          10        2   \n",
       "...                                    ...         ...      ...   \n",
       "66507206              [python, python-3.x]          12        2   \n",
       "66506475      [c++, multithreading, c++11]           8        3   \n",
       "66523786               [ios, swift, xcode]           1        3   \n",
       "66525874                          [c++, c]          10        2   \n",
       "66538407                          [python]          12        1   \n",
       "\n",
       "                                                       Body Tags_predict  \\\n",
       "Id                                                                         \n",
       "13620     [speed, difference, using, inline, string, v, ...           []   \n",
       "39561     [visual, studio, keep, first, curly, brace, li...           []   \n",
       "38288     [add, user, ubuntu, specifically, command, run...           []   \n",
       "40480     [java, passbyreference, passbyvalue, always, t...           []   \n",
       "41400     [wrap, function, variable, length, argument, l...          [c]   \n",
       "...                                                     ...          ...   \n",
       "66507206  [quickly, get, last, line, huge, csv, file, li...           []   \n",
       "66506475  [mutex, stdmutex, heavy, quite, often, site, f...           []   \n",
       "66523786  [swiftui, putting, lazyvstack, lazyhstack, scr...           []   \n",
       "66525874  [behavior, loop, split, switch, case, playing,...           []   \n",
       "66538407  [unable, import, pytorch_lightning, google, co...           []   \n",
       "\n",
       "         Intersection_predict  nombre_predict  Nb_tags_predict  \n",
       "Id                                                              \n",
       "13620                      []               0                0  \n",
       "39561                      []               0                0  \n",
       "38288                      []               0                0  \n",
       "40480                      []               0                0  \n",
       "41400                     [c]               1                0  \n",
       "...                       ...             ...              ...  \n",
       "66507206                   []               0                0  \n",
       "66506475                   []               0                0  \n",
       "66523786                   []               0                0  \n",
       "66525874                   []               0                0  \n",
       "66538407                   []               0                0  \n",
       "\n",
       "[119758 rows x 8 columns]"
      ]
     },
     "execution_count": 44,
     "metadata": {},
     "output_type": "execute_result"
    }
   ],
   "source": [
    "y_results"
   ]
  },
  {
   "cell_type": "code",
   "execution_count": 45,
   "id": "b7010de6",
   "metadata": {},
   "outputs": [],
   "source": [
    "train_perf = multilabel_binarizer.transform(y_results['Tags_list_bis'])"
   ]
  },
  {
   "cell_type": "code",
   "execution_count": 46,
   "id": "e31c6a09",
   "metadata": {},
   "outputs": [],
   "source": [
    "train_perf_predict = multilabel_binarizer.transform(y_results['Tags_predict'])"
   ]
  },
  {
   "cell_type": "code",
   "execution_count": 47,
   "id": "725d362d",
   "metadata": {},
   "outputs": [],
   "source": [
    "import sklearn.metrics as metrics"
   ]
  },
  {
   "cell_type": "code",
   "execution_count": 48,
   "id": "132efe7b",
   "metadata": {},
   "outputs": [
    {
     "name": "stdout",
     "output_type": "stream",
     "text": [
      "\n",
      "F1  0.24285299269502894\n"
     ]
    }
   ],
   "source": [
    "print('\\nF1 ',metrics.f1_score(train_perf, train_perf_predict, average='weighted'))"
   ]
  },
  {
   "cell_type": "code",
   "execution_count": 49,
   "id": "b3b9b564",
   "metadata": {},
   "outputs": [
    {
     "name": "stdout",
     "output_type": "stream",
     "text": [
      "\n",
      "Recall  0.1837350228000816\n"
     ]
    }
   ],
   "source": [
    "print('\\nRecall ', metrics.recall_score(train_perf, train_perf_predict, average='weighted'))"
   ]
  },
  {
   "cell_type": "code",
   "execution_count": 50,
   "id": "8105b47d",
   "metadata": {},
   "outputs": [
    {
     "name": "stdout",
     "output_type": "stream",
     "text": [
      "\n",
      "Precision  0.5144791516032484\n"
     ]
    },
    {
     "name": "stderr",
     "output_type": "stream",
     "text": [
      "C:\\Users\\antoi\\miniconda3\\envs\\Test\\lib\\site-packages\\sklearn\\metrics\\_classification.py:1248: UndefinedMetricWarning: Precision is ill-defined and being set to 0.0 in labels with no predicted samples. Use `zero_division` parameter to control this behavior.\n",
      "  _warn_prf(average, modifier, msg_start, len(result))\n"
     ]
    }
   ],
   "source": [
    "print('\\nPrecision ',metrics.precision_score(train_perf, train_perf_predict, average='weighted'))"
   ]
  },
  {
   "cell_type": "code",
   "execution_count": 51,
   "id": "92efde3a",
   "metadata": {},
   "outputs": [
    {
     "name": "stdout",
     "output_type": "stream",
     "text": [
      "\n",
      "Accuracy Faible:  0.27824445966031497\n"
     ]
    }
   ],
   "source": [
    "print('\\nAccuracy Faible: ', y_results['nombre_predict'].sum()/len(y_results))"
   ]
  },
  {
   "cell_type": "code",
   "execution_count": 52,
   "id": "8c3d52f6",
   "metadata": {},
   "outputs": [
    {
     "name": "stdout",
     "output_type": "stream",
     "text": [
      "\n",
      "Accuracy Moyenne:  0.18997172074795277\n"
     ]
    }
   ],
   "source": [
    "print('\\nAccuracy Moyenne: ',(y_results['nombre_predict']/y_results['nb_tags']).sum()/len(y_results))"
   ]
  },
  {
   "cell_type": "code",
   "execution_count": 53,
   "id": "135ff4c5",
   "metadata": {},
   "outputs": [
    {
     "name": "stdout",
     "output_type": "stream",
     "text": [
      "\n",
      "Accuracy Forte:  0.1342624292322851\n"
     ]
    }
   ],
   "source": [
    "print('\\nAccuracy Forte: ',y_results['Nb_tags_predict'].sum()/len(y_results))"
   ]
  },
  {
   "cell_type": "raw",
   "id": "ab2e3fae",
   "metadata": {},
   "source": [
    "Remarquons que les performances du modèle LDA ne sont pas très importantes. Ceci était déjà visible dès le moments où nous avons vu les différents Topics. Le modèle LDA ne semble pas bien séparé  les différents Topics et certains sont trop proches les uns des autres. Ce qui rend les prédictions plus aléatoires"
   ]
  },
  {
   "cell_type": "code",
   "execution_count": 54,
   "id": "f2eeb848",
   "metadata": {},
   "outputs": [],
   "source": [
    "Score = pd.DataFrame(index=[\"F1\",\"Recall\",\"Precision\",\"Accuracy_moyenne\",\"Accuracy_Faible\",\"Accuracy_Forte\"])"
   ]
  },
  {
   "cell_type": "code",
   "execution_count": 55,
   "id": "a2f69afa",
   "metadata": {},
   "outputs": [
    {
     "name": "stderr",
     "output_type": "stream",
     "text": [
      "C:\\Users\\antoi\\miniconda3\\envs\\Test\\lib\\site-packages\\sklearn\\metrics\\_classification.py:1248: UndefinedMetricWarning: Precision is ill-defined and being set to 0.0 in labels with no predicted samples. Use `zero_division` parameter to control this behavior.\n",
      "  _warn_prf(average, modifier, msg_start, len(result))\n"
     ]
    }
   ],
   "source": [
    "score = []\n",
    "score.append(metrics.f1_score(train_perf, train_perf_predict, average='weighted'))\n",
    "score.append(metrics.recall_score(train_perf, train_perf_predict, average='weighted'))\n",
    "score.append(metrics.precision_score(train_perf, train_perf_predict, average='weighted'))\n",
    "score.append((y_results['nombre_predict']/y_results['nb_tags']).sum()/len(y_results))\n",
    "score.append(y_results['nombre_predict'].sum()/len(y_results))\n",
    "score.append(y_results['Nb_tags_predict'].sum()/len(y_results))\n",
    "\n",
    "Score['LDA'] = score"
   ]
  },
  {
   "cell_type": "code",
   "execution_count": 56,
   "id": "3780167c",
   "metadata": {},
   "outputs": [
    {
     "data": {
      "text/html": [
       "<div>\n",
       "<style scoped>\n",
       "    .dataframe tbody tr th:only-of-type {\n",
       "        vertical-align: middle;\n",
       "    }\n",
       "\n",
       "    .dataframe tbody tr th {\n",
       "        vertical-align: top;\n",
       "    }\n",
       "\n",
       "    .dataframe thead th {\n",
       "        text-align: right;\n",
       "    }\n",
       "</style>\n",
       "<table border=\"1\" class=\"dataframe\">\n",
       "  <thead>\n",
       "    <tr style=\"text-align: right;\">\n",
       "      <th></th>\n",
       "      <th>LDA</th>\n",
       "    </tr>\n",
       "  </thead>\n",
       "  <tbody>\n",
       "    <tr>\n",
       "      <th>F1</th>\n",
       "      <td>0.242853</td>\n",
       "    </tr>\n",
       "    <tr>\n",
       "      <th>Recall</th>\n",
       "      <td>0.183735</td>\n",
       "    </tr>\n",
       "    <tr>\n",
       "      <th>Precision</th>\n",
       "      <td>0.514479</td>\n",
       "    </tr>\n",
       "    <tr>\n",
       "      <th>Accuracy_moyenne</th>\n",
       "      <td>0.189972</td>\n",
       "    </tr>\n",
       "    <tr>\n",
       "      <th>Accuracy_Faible</th>\n",
       "      <td>0.278244</td>\n",
       "    </tr>\n",
       "    <tr>\n",
       "      <th>Accuracy_Forte</th>\n",
       "      <td>0.134262</td>\n",
       "    </tr>\n",
       "  </tbody>\n",
       "</table>\n",
       "</div>"
      ],
      "text/plain": [
       "                       LDA\n",
       "F1                0.242853\n",
       "Recall            0.183735\n",
       "Precision         0.514479\n",
       "Accuracy_moyenne  0.189972\n",
       "Accuracy_Faible   0.278244\n",
       "Accuracy_Forte    0.134262"
      ]
     },
     "execution_count": 56,
     "metadata": {},
     "output_type": "execute_result"
    }
   ],
   "source": [
    "Score"
   ]
  },
  {
   "cell_type": "code",
   "execution_count": 57,
   "id": "b84f8ea1",
   "metadata": {},
   "outputs": [],
   "source": [
    "doc_topic_test = pd.DataFrame(lda_model_final.get_document_topics(corpus_test,minimum_probability=0))"
   ]
  },
  {
   "cell_type": "code",
   "execution_count": 58,
   "id": "645d5f68",
   "metadata": {},
   "outputs": [],
   "source": [
    "for topic in doc_topic_test.columns:\n",
    "    doc_topic_test[topic] = doc_topic_test[topic].apply(lambda x : x[1])"
   ]
  },
  {
   "cell_type": "code",
   "execution_count": 59,
   "id": "41768027",
   "metadata": {},
   "outputs": [],
   "source": [
    "y_results_test = pd.DataFrame(data_test[\"Tags_list_bis\"])\n",
    "y_results_test['best_topic'] = doc_topic_test.idxmax(axis=1).values\n",
    "y_results_test[\"nb_tags\"] = y_results_test[\"Tags_list_bis\"].apply(lambda x : len(x))"
   ]
  },
  {
   "cell_type": "code",
   "execution_count": 60,
   "id": "818c430a",
   "metadata": {},
   "outputs": [],
   "source": [
    "y_results_test[\"Body\"] = data_test[\"Total\"]"
   ]
  },
  {
   "cell_type": "code",
   "execution_count": 61,
   "id": "0ce4e85a",
   "metadata": {},
   "outputs": [],
   "source": [
    "list_test = ['best_topic']\n",
    "tag_predict = []\n",
    "list_temp = []\n",
    "list_temp2 = []\n",
    "\n",
    "for i,j in zip(y_results_test['best_topic'],y_results_test['Body']):\n",
    "        list_temp = feature_topic[i]\n",
    "        for words1 in list_temp:\n",
    "            for words2 in j:\n",
    "                if words1 == words2 and words1 not in list_temp2 :\n",
    "                    list_temp2.append(words1)\n",
    "            \n",
    "        tag_predict.append(list_temp2)\n",
    "        list_temp2= []"
   ]
  },
  {
   "cell_type": "code",
   "execution_count": 62,
   "id": "ea8ae9d9",
   "metadata": {},
   "outputs": [],
   "source": [
    "y_results_test[\"Tags_predict\"] = tag_predict"
   ]
  },
  {
   "cell_type": "code",
   "execution_count": 63,
   "id": "cf933538",
   "metadata": {},
   "outputs": [],
   "source": [
    "intersection1 = []\n",
    "intersection2 = []\n",
    "list_temp = []\n",
    "\n",
    "for i,j in zip(y_results_test['Tags_list_bis'],y_results_test['Tags_predict']):\n",
    "    for words1 in i:\n",
    "            for words2 in j:\n",
    "                if words1 == words2:\n",
    "                    list_temp.append(words1)\n",
    "    intersection1.append(list_temp)\n",
    "    list_temp = []"
   ]
  },
  {
   "cell_type": "code",
   "execution_count": 64,
   "id": "a76851df",
   "metadata": {},
   "outputs": [],
   "source": [
    "y_results_test[\"Intersection_predict\"] = intersection1"
   ]
  },
  {
   "cell_type": "code",
   "execution_count": 65,
   "id": "dfe8baa0",
   "metadata": {},
   "outputs": [],
   "source": [
    "y_results_test['nombre_predict'] =[len(x) for x in y_results_test['Intersection_predict']]"
   ]
  },
  {
   "cell_type": "code",
   "execution_count": 66,
   "id": "f6e063e8",
   "metadata": {},
   "outputs": [],
   "source": [
    "list_accuracy = []\n",
    "\n",
    "for i,j in zip(y_results_test['nb_tags'],y_results_test['nombre_predict']):\n",
    "    if i == j:\n",
    "        list_accuracy.append(1)\n",
    "    else:\n",
    "        list_accuracy.append(0)\n"
   ]
  },
  {
   "cell_type": "code",
   "execution_count": 67,
   "id": "94ea85fe",
   "metadata": {},
   "outputs": [],
   "source": [
    "y_results_test['Nb_tags_predict'] = list_accuracy"
   ]
  },
  {
   "cell_type": "code",
   "execution_count": 68,
   "id": "0cf33f09",
   "metadata": {},
   "outputs": [
    {
     "data": {
      "text/html": [
       "<div>\n",
       "<style scoped>\n",
       "    .dataframe tbody tr th:only-of-type {\n",
       "        vertical-align: middle;\n",
       "    }\n",
       "\n",
       "    .dataframe tbody tr th {\n",
       "        vertical-align: top;\n",
       "    }\n",
       "\n",
       "    .dataframe thead th {\n",
       "        text-align: right;\n",
       "    }\n",
       "</style>\n",
       "<table border=\"1\" class=\"dataframe\">\n",
       "  <thead>\n",
       "    <tr style=\"text-align: right;\">\n",
       "      <th></th>\n",
       "      <th>Tags_list_bis</th>\n",
       "      <th>best_topic</th>\n",
       "      <th>nb_tags</th>\n",
       "      <th>Body</th>\n",
       "      <th>Tags_predict</th>\n",
       "      <th>Intersection_predict</th>\n",
       "      <th>nombre_predict</th>\n",
       "      <th>Nb_tags_predict</th>\n",
       "    </tr>\n",
       "    <tr>\n",
       "      <th>Id</th>\n",
       "      <th></th>\n",
       "      <th></th>\n",
       "      <th></th>\n",
       "      <th></th>\n",
       "      <th></th>\n",
       "      <th></th>\n",
       "      <th></th>\n",
       "      <th></th>\n",
       "    </tr>\n",
       "  </thead>\n",
       "  <tbody>\n",
       "    <tr>\n",
       "      <th>11419700</th>\n",
       "      <td>[git]</td>\n",
       "      <td>12</td>\n",
       "      <td>1</td>\n",
       "      <td>[git, gui, crash, every, time, open, repositor...</td>\n",
       "      <td>[]</td>\n",
       "      <td>[]</td>\n",
       "      <td>0</td>\n",
       "      <td>0</td>\n",
       "    </tr>\n",
       "    <tr>\n",
       "      <th>18305398</th>\n",
       "      <td>[html, css]</td>\n",
       "      <td>1</td>\n",
       "      <td>2</td>\n",
       "      <td>[zindex, stacking, removing, child, stacking, ...</td>\n",
       "      <td>[html]</td>\n",
       "      <td>[html]</td>\n",
       "      <td>1</td>\n",
       "      <td>0</td>\n",
       "    </tr>\n",
       "    <tr>\n",
       "      <th>18249672</th>\n",
       "      <td>[c++]</td>\n",
       "      <td>8</td>\n",
       "      <td>1</td>\n",
       "      <td>[always, use, booleans, opinion, one, bit, eve...</td>\n",
       "      <td>[]</td>\n",
       "      <td>[]</td>\n",
       "      <td>0</td>\n",
       "      <td>0</td>\n",
       "    </tr>\n",
       "    <tr>\n",
       "      <th>4796789</th>\n",
       "      <td>[c++]</td>\n",
       "      <td>10</td>\n",
       "      <td>1</td>\n",
       "      <td>[default, inheritance, access, specifier, exam...</td>\n",
       "      <td>[c++]</td>\n",
       "      <td>[c++]</td>\n",
       "      <td>1</td>\n",
       "      <td>1</td>\n",
       "    </tr>\n",
       "    <tr>\n",
       "      <th>36777619</th>\n",
       "      <td>[reactjs]</td>\n",
       "      <td>10</td>\n",
       "      <td>1</td>\n",
       "      <td>[state, seems, getting, overwritten, instead, ...</td>\n",
       "      <td>[]</td>\n",
       "      <td>[]</td>\n",
       "      <td>0</td>\n",
       "      <td>0</td>\n",
       "    </tr>\n",
       "    <tr>\n",
       "      <th>...</th>\n",
       "      <td>...</td>\n",
       "      <td>...</td>\n",
       "      <td>...</td>\n",
       "      <td>...</td>\n",
       "      <td>...</td>\n",
       "      <td>...</td>\n",
       "      <td>...</td>\n",
       "      <td>...</td>\n",
       "    </tr>\n",
       "    <tr>\n",
       "      <th>19874502</th>\n",
       "      <td>[ios, objective-c]</td>\n",
       "      <td>10</td>\n",
       "      <td>2</td>\n",
       "      <td>[nsinvocation, getreturnvalue, double, value, ...</td>\n",
       "      <td>[]</td>\n",
       "      <td>[]</td>\n",
       "      <td>0</td>\n",
       "      <td>0</td>\n",
       "    </tr>\n",
       "    <tr>\n",
       "      <th>37202716</th>\n",
       "      <td>[c++, c++11]</td>\n",
       "      <td>10</td>\n",
       "      <td>2</td>\n",
       "      <td>[is_const, work, expected, reference, wrote, t...</td>\n",
       "      <td>[]</td>\n",
       "      <td>[]</td>\n",
       "      <td>0</td>\n",
       "      <td>0</td>\n",
       "    </tr>\n",
       "    <tr>\n",
       "      <th>8407164</th>\n",
       "      <td>[c++, optimization]</td>\n",
       "      <td>10</td>\n",
       "      <td>2</td>\n",
       "      <td>[reference, variable, c++, assume, following, ...</td>\n",
       "      <td>[c++]</td>\n",
       "      <td>[c++]</td>\n",
       "      <td>1</td>\n",
       "      <td>0</td>\n",
       "    </tr>\n",
       "    <tr>\n",
       "      <th>57242208</th>\n",
       "      <td>[python, python-3.x]</td>\n",
       "      <td>12</td>\n",
       "      <td>2</td>\n",
       "      <td>[resolve, error, module, umap, attribute, umap...</td>\n",
       "      <td>[]</td>\n",
       "      <td>[]</td>\n",
       "      <td>0</td>\n",
       "      <td>0</td>\n",
       "    </tr>\n",
       "    <tr>\n",
       "      <th>58466825</th>\n",
       "      <td>[c#, .net]</td>\n",
       "      <td>12</td>\n",
       "      <td>2</td>\n",
       "      <td>[connect, cassandra, vm, following, code, work...</td>\n",
       "      <td>[]</td>\n",
       "      <td>[]</td>\n",
       "      <td>0</td>\n",
       "      <td>0</td>\n",
       "    </tr>\n",
       "  </tbody>\n",
       "</table>\n",
       "<p>11976 rows × 8 columns</p>\n",
       "</div>"
      ],
      "text/plain": [
       "                 Tags_list_bis  best_topic  nb_tags  \\\n",
       "Id                                                    \n",
       "11419700                 [git]          12        1   \n",
       "18305398           [html, css]           1        2   \n",
       "18249672                 [c++]           8        1   \n",
       "4796789                  [c++]          10        1   \n",
       "36777619             [reactjs]          10        1   \n",
       "...                        ...         ...      ...   \n",
       "19874502    [ios, objective-c]          10        2   \n",
       "37202716          [c++, c++11]          10        2   \n",
       "8407164    [c++, optimization]          10        2   \n",
       "57242208  [python, python-3.x]          12        2   \n",
       "58466825            [c#, .net]          12        2   \n",
       "\n",
       "                                                       Body Tags_predict  \\\n",
       "Id                                                                         \n",
       "11419700  [git, gui, crash, every, time, open, repositor...           []   \n",
       "18305398  [zindex, stacking, removing, child, stacking, ...       [html]   \n",
       "18249672  [always, use, booleans, opinion, one, bit, eve...           []   \n",
       "4796789   [default, inheritance, access, specifier, exam...        [c++]   \n",
       "36777619  [state, seems, getting, overwritten, instead, ...           []   \n",
       "...                                                     ...          ...   \n",
       "19874502  [nsinvocation, getreturnvalue, double, value, ...           []   \n",
       "37202716  [is_const, work, expected, reference, wrote, t...           []   \n",
       "8407164   [reference, variable, c++, assume, following, ...        [c++]   \n",
       "57242208  [resolve, error, module, umap, attribute, umap...           []   \n",
       "58466825  [connect, cassandra, vm, following, code, work...           []   \n",
       "\n",
       "         Intersection_predict  nombre_predict  Nb_tags_predict  \n",
       "Id                                                              \n",
       "11419700                   []               0                0  \n",
       "18305398               [html]               1                0  \n",
       "18249672                   []               0                0  \n",
       "4796789                 [c++]               1                1  \n",
       "36777619                   []               0                0  \n",
       "...                       ...             ...              ...  \n",
       "19874502                   []               0                0  \n",
       "37202716                   []               0                0  \n",
       "8407164                 [c++]               1                0  \n",
       "57242208                   []               0                0  \n",
       "58466825                   []               0                0  \n",
       "\n",
       "[11976 rows x 8 columns]"
      ]
     },
     "execution_count": 68,
     "metadata": {},
     "output_type": "execute_result"
    }
   ],
   "source": [
    "y_results_test"
   ]
  },
  {
   "cell_type": "code",
   "execution_count": 69,
   "id": "ac1db58e",
   "metadata": {},
   "outputs": [],
   "source": [
    "test_perf = multilabel_binarizer.transform(y_results_test['Tags_list_bis'])"
   ]
  },
  {
   "cell_type": "code",
   "execution_count": 70,
   "id": "92489d1e",
   "metadata": {},
   "outputs": [],
   "source": [
    "test_perf_predict = multilabel_binarizer.transform(y_results_test['Tags_predict'])"
   ]
  },
  {
   "cell_type": "code",
   "execution_count": 71,
   "id": "14bb6a81",
   "metadata": {},
   "outputs": [],
   "source": [
    "Score_test = pd.DataFrame(index=[\"F1\",\"Recall\",\"Precision\",\"Accuracy_moyenne\",\"Accuracy_Faible\",\"Accuracy_Forte\"])"
   ]
  },
  {
   "cell_type": "code",
   "execution_count": 72,
   "id": "c836fe30",
   "metadata": {},
   "outputs": [
    {
     "name": "stderr",
     "output_type": "stream",
     "text": [
      "C:\\Users\\antoi\\miniconda3\\envs\\Test\\lib\\site-packages\\sklearn\\metrics\\_classification.py:1248: UndefinedMetricWarning: Precision is ill-defined and being set to 0.0 in labels with no predicted samples. Use `zero_division` parameter to control this behavior.\n",
      "  _warn_prf(average, modifier, msg_start, len(result))\n"
     ]
    }
   ],
   "source": [
    "score = []\n",
    "score.append(metrics.f1_score(test_perf, test_perf_predict, average='weighted'))\n",
    "score.append(metrics.recall_score(test_perf, test_perf_predict, average='weighted'))\n",
    "score.append(metrics.precision_score(test_perf, test_perf_predict, average='weighted'))\n",
    "score.append((y_results_test['nombre_predict']/y_results_test['nb_tags']).sum()/len(y_results_test))\n",
    "score.append(y_results_test['nombre_predict'].sum()/len(y_results_test))\n",
    "score.append(y_results_test['Nb_tags_predict'].sum()/len(y_results_test))\n",
    "\n",
    "Score_test['LDA'] = score"
   ]
  },
  {
   "cell_type": "code",
   "execution_count": 73,
   "id": "126f59f8",
   "metadata": {},
   "outputs": [
    {
     "data": {
      "text/html": [
       "<div>\n",
       "<style scoped>\n",
       "    .dataframe tbody tr th:only-of-type {\n",
       "        vertical-align: middle;\n",
       "    }\n",
       "\n",
       "    .dataframe tbody tr th {\n",
       "        vertical-align: top;\n",
       "    }\n",
       "\n",
       "    .dataframe thead th {\n",
       "        text-align: right;\n",
       "    }\n",
       "</style>\n",
       "<table border=\"1\" class=\"dataframe\">\n",
       "  <thead>\n",
       "    <tr style=\"text-align: right;\">\n",
       "      <th></th>\n",
       "      <th>LDA</th>\n",
       "    </tr>\n",
       "  </thead>\n",
       "  <tbody>\n",
       "    <tr>\n",
       "      <th>F1</th>\n",
       "      <td>0.243540</td>\n",
       "    </tr>\n",
       "    <tr>\n",
       "      <th>Recall</th>\n",
       "      <td>0.184855</td>\n",
       "    </tr>\n",
       "    <tr>\n",
       "      <th>Precision</th>\n",
       "      <td>0.516554</td>\n",
       "    </tr>\n",
       "    <tr>\n",
       "      <th>Accuracy_moyenne</th>\n",
       "      <td>0.189164</td>\n",
       "    </tr>\n",
       "    <tr>\n",
       "      <th>Accuracy_Faible</th>\n",
       "      <td>0.280478</td>\n",
       "    </tr>\n",
       "    <tr>\n",
       "      <th>Accuracy_Forte</th>\n",
       "      <td>0.132599</td>\n",
       "    </tr>\n",
       "  </tbody>\n",
       "</table>\n",
       "</div>"
      ],
      "text/plain": [
       "                       LDA\n",
       "F1                0.243540\n",
       "Recall            0.184855\n",
       "Precision         0.516554\n",
       "Accuracy_moyenne  0.189164\n",
       "Accuracy_Faible   0.280478\n",
       "Accuracy_Forte    0.132599"
      ]
     },
     "execution_count": 73,
     "metadata": {},
     "output_type": "execute_result"
    }
   ],
   "source": [
    "Score_test"
   ]
  },
  {
   "cell_type": "markdown",
   "id": "9367c5cb",
   "metadata": {},
   "source": [
    "# Partie 3 : Modèle supervisé"
   ]
  },
  {
   "cell_type": "raw",
   "id": "3f96d2fe",
   "metadata": {},
   "source": [
    "Passons maintenant aux modèles supervisés. Dan un premier temps, on va créer une fonctionqui va nous permettre  de calculer les différentes métriques."
   ]
  },
  {
   "cell_type": "code",
   "execution_count": 74,
   "id": "c9dd3c08",
   "metadata": {},
   "outputs": [],
   "source": [
    "def metrics_test(model, data, y_true, y_pred):\n",
    "    \n",
    "    temp_df = data\n",
    "    \n",
    "    score=[]\n",
    "    \n",
    "    score.append(metrics.f1_score(y_true, y_pred, average='weighted'))\n",
    "    score.append(metrics.recall_score(y_true, y_pred, average='weighted'))\n",
    "    score.append(metrics.precision_score(y_true, y_pred, average='weighted'))\n",
    "    \n",
    "    accuracy_moyenne = 0\n",
    "    accuracy_faible = 0\n",
    "    accuracy_forte = 0\n",
    "    accuracy = y_true*y_pred\n",
    "    test = accuracy.sum(axis=1)\n",
    "    test_bis = y_true.sum(axis=1)\n",
    "    n = len(test)\n",
    "    ratio = test/test_bis\n",
    "    for i in range(0,n):\n",
    "        if test[i] == test_bis[i]:\n",
    "            accuracy_forte += 1\n",
    "        if test[i] > 0:\n",
    "            accuracy_faible += 1\n",
    "    accuracy_moyenne = ratio.sum()/n\n",
    "    accuracy_forte = accuracy_forte/n\n",
    "    accuracy_faible = accuracy_faible/n\n",
    "    \n",
    "    score.append(accuracy_moyenne)\n",
    "    score.append(accuracy_faible)\n",
    "    score.append(accuracy_forte)\n",
    "    \n",
    "    temp_df[model] = score\n",
    "    \n",
    "    return temp_df\n",
    "    "
   ]
  },
  {
   "cell_type": "code",
   "execution_count": 75,
   "id": "32c099be",
   "metadata": {},
   "outputs": [],
   "source": [
    "def metrics_train(score, y_true, y_pred):\n",
    "    \n",
    "    accuracy_moyenne = 0\n",
    "    accuracy_faible = 0\n",
    "    accuracy_forte = 0\n",
    "    accuracy = y_true*y_pred\n",
    "    test = accuracy.sum(axis=1)\n",
    "    test_bis = y_true.sum(axis=1)\n",
    "    n = len(test)\n",
    "    ratio = test/test_bis\n",
    "    for i in range(0,n):\n",
    "        if test[i] == test_bis[i]:\n",
    "            accuracy_forte += 1\n",
    "        if test[i] > 0:\n",
    "            accuracy_faible += 1\n",
    "    accuracy_moyenne = ratio.sum()/n\n",
    "    accuracy_forte = accuracy_forte/n\n",
    "    accuracy_faible = accuracy_faible/n\n",
    "    \n",
    "    score.append(accuracy_moyenne)\n",
    "    score.append(accuracy_faible)\n",
    "    score.append(accuracy_forte)\n",
    "    \n",
    "    return score"
   ]
  },
  {
   "cell_type": "raw",
   "id": "08b74d37",
   "metadata": {},
   "source": [
    "Dans toutes cette partie, nous allons réaliser des gridsearchcv, sur 10 000 post, pour des raisons de temps de calculs, pour déterminer les meilleurs paramètres. Puis nous allons refaire des girsearchcv, pour pouvoir estimer les performances de nos différents modèles"
   ]
  },
  {
   "cell_type": "markdown",
   "id": "18cb1c65",
   "metadata": {},
   "source": [
    "## LogiticRegression"
   ]
  },
  {
   "cell_type": "code",
   "execution_count": 77,
   "id": "a0b27c9e",
   "metadata": {},
   "outputs": [
    {
     "name": "stdout",
     "output_type": "stream",
     "text": [
      "Best Score:  0.5848934614449545\n",
      "Best Params:  {'estimator__C': 10, 'estimator__dual': False, 'estimator__penalty': 'l1', 'estimator__solver': 'liblinear'}\n"
     ]
    }
   ],
   "source": [
    "from sklearn.linear_model import LogisticRegression\n",
    "from sklearn.model_selection import GridSearchCV\n",
    "from sklearn.multiclass import OneVsRestClassifier\n",
    "\n",
    "\n",
    "param_logit = {\"estimator__C\": [100, 10, 1.0, 0.1],\n",
    "               \"estimator__penalty\": [\"l1\",\"l2\"],\n",
    "               \"estimator__dual\": [False],\n",
    "               \"estimator__solver\": [\"liblinear\"]}\n",
    "\n",
    "multi_logit_cv = GridSearchCV(OneVsRestClassifier(LogisticRegression()),\n",
    "                              param_grid=param_logit,\n",
    "                              n_jobs=-1,\n",
    "                              cv=5,\n",
    "                              scoring=\"f1_weighted\",\n",
    "                              return_train_score = True,\n",
    "                              refit=True)\n",
    "\n",
    "grid_result = multi_logit_cv.fit(X_train[0:10000], y_train[0:10000])\n",
    "\n",
    "\n",
    "print('Best Score: ', grid_result.best_score_)\n",
    "print('Best Params: ', grid_result.best_params_)"
   ]
  },
  {
   "cell_type": "code",
   "execution_count": 78,
   "id": "bb16efaa",
   "metadata": {},
   "outputs": [
    {
     "name": "stdout",
     "output_type": "stream",
     "text": [
      "Best F1:  [0.64604766]\n",
      "Best Precision:  [0.75743337]\n",
      "Best Recall [0.56989936]\n"
     ]
    }
   ],
   "source": [
    "from sklearn.linear_model import LogisticRegression\n",
    "from sklearn.model_selection import GridSearchCV\n",
    "from sklearn.multiclass import OneVsRestClassifier\n",
    "\n",
    "param_logit_test = {\"estimator__C\": [10],\n",
    "               \"estimator__penalty\": [\"l1\"],\n",
    "               \"estimator__dual\": [False],\n",
    "               \"estimator__solver\": [\"liblinear\"]}\n",
    "\n",
    "multi_logit_cv = GridSearchCV(OneVsRestClassifier(LogisticRegression()),\n",
    "                              param_grid=param_logit_test,\n",
    "                              n_jobs=-1,\n",
    "                              cv=5,\n",
    "                              scoring=(\"f1_weighted\",\"precision_weighted\",\"recall_weighted\"),\n",
    "                              refit=\"f1_weighted\",\n",
    "                              return_train_score = True)\n",
    "\n",
    "grid_result = multi_logit_cv.fit(X_train, y_train)\n",
    "\n",
    "Estimator_logit = multi_logit_cv.best_estimator_\n",
    "\n",
    "logit_results = pd.DataFrame.from_dict(grid_result.cv_results_)\n",
    "\n",
    "print('Best F1: ', np.array(logit_results[logit_results.rank_test_f1_weighted==1]['mean_test_f1_weighted']))\n",
    "print('Best Precision: ', np.array(logit_results[logit_results.rank_test_f1_weighted==1]['mean_test_precision_weighted']))\n",
    "print('Best Recall', np.array(logit_results[logit_results.rank_test_f1_weighted==1]['mean_test_recall_weighted']))"
   ]
  },
  {
   "cell_type": "code",
   "execution_count": 79,
   "id": "f012398f",
   "metadata": {},
   "outputs": [
    {
     "data": {
      "text/html": [
       "<div>\n",
       "<style scoped>\n",
       "    .dataframe tbody tr th:only-of-type {\n",
       "        vertical-align: middle;\n",
       "    }\n",
       "\n",
       "    .dataframe tbody tr th {\n",
       "        vertical-align: top;\n",
       "    }\n",
       "\n",
       "    .dataframe thead th {\n",
       "        text-align: right;\n",
       "    }\n",
       "</style>\n",
       "<table border=\"1\" class=\"dataframe\">\n",
       "  <thead>\n",
       "    <tr style=\"text-align: right;\">\n",
       "      <th></th>\n",
       "      <th>LDA</th>\n",
       "      <th>Logistic</th>\n",
       "    </tr>\n",
       "  </thead>\n",
       "  <tbody>\n",
       "    <tr>\n",
       "      <th>F1</th>\n",
       "      <td>0.242853</td>\n",
       "      <td>[0.64604766156991]</td>\n",
       "    </tr>\n",
       "    <tr>\n",
       "      <th>Recall</th>\n",
       "      <td>0.183735</td>\n",
       "      <td>[0.5698993590697314]</td>\n",
       "    </tr>\n",
       "    <tr>\n",
       "      <th>Precision</th>\n",
       "      <td>0.514479</td>\n",
       "      <td>[0.7574333671958158]</td>\n",
       "    </tr>\n",
       "    <tr>\n",
       "      <th>Accuracy_moyenne</th>\n",
       "      <td>0.189972</td>\n",
       "      <td>0.658652</td>\n",
       "    </tr>\n",
       "    <tr>\n",
       "      <th>Accuracy_Faible</th>\n",
       "      <td>0.278244</td>\n",
       "      <td>0.769952</td>\n",
       "    </tr>\n",
       "    <tr>\n",
       "      <th>Accuracy_Forte</th>\n",
       "      <td>0.134262</td>\n",
       "      <td>0.548663</td>\n",
       "    </tr>\n",
       "  </tbody>\n",
       "</table>\n",
       "</div>"
      ],
      "text/plain": [
       "                       LDA              Logistic\n",
       "F1                0.242853    [0.64604766156991]\n",
       "Recall            0.183735  [0.5698993590697314]\n",
       "Precision         0.514479  [0.7574333671958158]\n",
       "Accuracy_moyenne  0.189972              0.658652\n",
       "Accuracy_Faible   0.278244              0.769952\n",
       "Accuracy_Forte    0.134262              0.548663"
      ]
     },
     "execution_count": 79,
     "metadata": {},
     "output_type": "execute_result"
    }
   ],
   "source": [
    "score = []\n",
    "score.append(np.array(logit_results[logit_results.rank_test_f1_weighted==1]['mean_test_f1_weighted']))\n",
    "score.append(np.array(logit_results[logit_results.rank_test_f1_weighted==1]['mean_test_recall_weighted']))\n",
    "score.append(np.array(logit_results[logit_results.rank_test_f1_weighted==1]['mean_test_precision_weighted']))\n",
    "metrics_train(score, y_train, multi_logit_cv.predict(X_train))\n",
    "Score['Logistic'] = score\n",
    "Score"
   ]
  },
  {
   "cell_type": "code",
   "execution_count": 80,
   "id": "dc695f76",
   "metadata": {},
   "outputs": [
    {
     "data": {
      "text/html": [
       "<div>\n",
       "<style scoped>\n",
       "    .dataframe tbody tr th:only-of-type {\n",
       "        vertical-align: middle;\n",
       "    }\n",
       "\n",
       "    .dataframe tbody tr th {\n",
       "        vertical-align: top;\n",
       "    }\n",
       "\n",
       "    .dataframe thead th {\n",
       "        text-align: right;\n",
       "    }\n",
       "</style>\n",
       "<table border=\"1\" class=\"dataframe\">\n",
       "  <thead>\n",
       "    <tr style=\"text-align: right;\">\n",
       "      <th></th>\n",
       "      <th>LDA</th>\n",
       "      <th>Logistic</th>\n",
       "    </tr>\n",
       "  </thead>\n",
       "  <tbody>\n",
       "    <tr>\n",
       "      <th>F1</th>\n",
       "      <td>0.243540</td>\n",
       "      <td>0.645631</td>\n",
       "    </tr>\n",
       "    <tr>\n",
       "      <th>Recall</th>\n",
       "      <td>0.184855</td>\n",
       "      <td>0.566892</td>\n",
       "    </tr>\n",
       "    <tr>\n",
       "      <th>Precision</th>\n",
       "      <td>0.516554</td>\n",
       "      <td>0.762950</td>\n",
       "    </tr>\n",
       "    <tr>\n",
       "      <th>Accuracy_moyenne</th>\n",
       "      <td>0.189164</td>\n",
       "      <td>0.610034</td>\n",
       "    </tr>\n",
       "    <tr>\n",
       "      <th>Accuracy_Faible</th>\n",
       "      <td>0.280478</td>\n",
       "      <td>0.726035</td>\n",
       "    </tr>\n",
       "    <tr>\n",
       "      <th>Accuracy_Forte</th>\n",
       "      <td>0.132599</td>\n",
       "      <td>0.497829</td>\n",
       "    </tr>\n",
       "  </tbody>\n",
       "</table>\n",
       "</div>"
      ],
      "text/plain": [
       "                       LDA  Logistic\n",
       "F1                0.243540  0.645631\n",
       "Recall            0.184855  0.566892\n",
       "Precision         0.516554  0.762950\n",
       "Accuracy_moyenne  0.189164  0.610034\n",
       "Accuracy_Faible   0.280478  0.726035\n",
       "Accuracy_Forte    0.132599  0.497829"
      ]
     },
     "execution_count": 80,
     "metadata": {},
     "output_type": "execute_result"
    }
   ],
   "source": [
    "Score_test = metrics_test('Logistic', Score_test , y_test, multi_logit_cv.predict(X_test))\n",
    "Score_test"
   ]
  },
  {
   "cell_type": "raw",
   "id": "79978b25",
   "metadata": {},
   "source": [
    "Les différentes métriques semblent donner que la Logistic Regression plus performantes que la LDA"
   ]
  },
  {
   "cell_type": "markdown",
   "id": "8983ab91",
   "metadata": {},
   "source": [
    "## RandomForestClassifier"
   ]
  },
  {
   "cell_type": "raw",
   "id": "422746ea",
   "metadata": {},
   "source": [
    "Testons à présent le Random Forest Classifier"
   ]
  },
  {
   "cell_type": "code",
   "execution_count": 81,
   "id": "cd969b6d",
   "metadata": {},
   "outputs": [
    {
     "name": "stdout",
     "output_type": "stream",
     "text": [
      "Best Score:  0.5959293551095309\n",
      "Best Params:  {'estimator__class_weight': 'balanced', 'estimator__max_depth': 25, 'estimator__min_samples_leaf': 10, 'estimator__min_samples_split': 4, 'estimator__n_estimators': 100}\n"
     ]
    }
   ],
   "source": [
    "from sklearn.ensemble import RandomForestClassifier\n",
    "\n",
    "param_rfc = {\"estimator__n_estimators\": [50, 100],\n",
    "             \"estimator__max_depth\": [5, 25, 50],\n",
    "             \"estimator__min_samples_leaf\": [1, 5, 10],\n",
    "             \"estimator__min_samples_split\":[2, 4, 8],\n",
    "             \"estimator__class_weight\": ['balanced']}\n",
    "\n",
    "multi_rfc_cv = GridSearchCV(OneVsRestClassifier(RandomForestClassifier()),\n",
    "                            param_grid=param_rfc,\n",
    "                            n_jobs=-1,\n",
    "                            cv=5,\n",
    "                            scoring=\"f1_weighted\",\n",
    "                            return_train_score = True,\n",
    "                            refit=True)\n",
    "\n",
    "grid_result = multi_rfc_cv.fit(X_train[0:10000], y_train[0:10000])\n",
    "\n",
    "print('Best Score: ', grid_result.best_score_)\n",
    "print('Best Params: ', grid_result.best_params_)"
   ]
  },
  {
   "cell_type": "code",
   "execution_count": 83,
   "id": "73152636",
   "metadata": {},
   "outputs": [
    {
     "name": "stdout",
     "output_type": "stream",
     "text": [
      "Best F1:  [0.64604516]\n",
      "Best Precision:  [0.561304]\n",
      "Best Recall [0.7919741]\n"
     ]
    }
   ],
   "source": [
    "param_rfc_test = {\"estimator__n_estimators\":[100],\n",
    "                 \"estimator__max_depth\": [25],\n",
    "                 \"estimator__min_samples_leaf\": [10],\n",
    "                 \"estimator__min_samples_split\":[4],\n",
    "                 \"estimator__class_weight\": ['balanced']}\n",
    "\n",
    "multi_rfc_cv = GridSearchCV(OneVsRestClassifier(RandomForestClassifier()),\n",
    "                            param_grid=param_rfc_test,\n",
    "                            n_jobs=-1,\n",
    "                            cv=5,\n",
    "                            scoring=(\"f1_weighted\",\"precision_weighted\",\"recall_weighted\"),\n",
    "                            return_train_score = True,\n",
    "                            refit=\"f1_weighted\")\n",
    "\n",
    "grid_result = multi_rfc_cv.fit(X_train, y_train)\n",
    "\n",
    "rfc_results = pd.DataFrame.from_dict(grid_result.cv_results_)\n",
    "\n",
    "Estimator_rfc = multi_rfc_cv.best_estimator_\n",
    "\n",
    "print('Best F1: ', np.array(rfc_results[rfc_results.rank_test_f1_weighted==1]['mean_test_f1_weighted']))\n",
    "print('Best Precision: ', np.array(rfc_results[rfc_results.rank_test_f1_weighted==1]['mean_test_precision_weighted']))\n",
    "print('Best Recall', np.array(rfc_results[rfc_results.rank_test_f1_weighted==1]['mean_test_recall_weighted']))"
   ]
  },
  {
   "cell_type": "code",
   "execution_count": 85,
   "id": "2c5f7748",
   "metadata": {},
   "outputs": [
    {
     "data": {
      "text/html": [
       "<div>\n",
       "<style scoped>\n",
       "    .dataframe tbody tr th:only-of-type {\n",
       "        vertical-align: middle;\n",
       "    }\n",
       "\n",
       "    .dataframe tbody tr th {\n",
       "        vertical-align: top;\n",
       "    }\n",
       "\n",
       "    .dataframe thead th {\n",
       "        text-align: right;\n",
       "    }\n",
       "</style>\n",
       "<table border=\"1\" class=\"dataframe\">\n",
       "  <thead>\n",
       "    <tr style=\"text-align: right;\">\n",
       "      <th></th>\n",
       "      <th>LDA</th>\n",
       "      <th>Logistic</th>\n",
       "      <th>RandomForrest</th>\n",
       "    </tr>\n",
       "  </thead>\n",
       "  <tbody>\n",
       "    <tr>\n",
       "      <th>F1</th>\n",
       "      <td>0.242853</td>\n",
       "      <td>[0.64604766156991]</td>\n",
       "      <td>[0.6460451608963717]</td>\n",
       "    </tr>\n",
       "    <tr>\n",
       "      <th>Recall</th>\n",
       "      <td>0.183735</td>\n",
       "      <td>[0.5698993590697314]</td>\n",
       "      <td>[0.7919740964560849]</td>\n",
       "    </tr>\n",
       "    <tr>\n",
       "      <th>Precision</th>\n",
       "      <td>0.514479</td>\n",
       "      <td>[0.7574333671958158]</td>\n",
       "      <td>[0.561303998702607]</td>\n",
       "    </tr>\n",
       "    <tr>\n",
       "      <th>Accuracy_moyenne</th>\n",
       "      <td>0.189972</td>\n",
       "      <td>0.658652</td>\n",
       "      <td>0.897368</td>\n",
       "    </tr>\n",
       "    <tr>\n",
       "      <th>Accuracy_Faible</th>\n",
       "      <td>0.278244</td>\n",
       "      <td>0.769952</td>\n",
       "      <td>0.925878</td>\n",
       "    </tr>\n",
       "    <tr>\n",
       "      <th>Accuracy_Forte</th>\n",
       "      <td>0.134262</td>\n",
       "      <td>0.548663</td>\n",
       "      <td>0.865395</td>\n",
       "    </tr>\n",
       "  </tbody>\n",
       "</table>\n",
       "</div>"
      ],
      "text/plain": [
       "                       LDA              Logistic         RandomForrest\n",
       "F1                0.242853    [0.64604766156991]  [0.6460451608963717]\n",
       "Recall            0.183735  [0.5698993590697314]  [0.7919740964560849]\n",
       "Precision         0.514479  [0.7574333671958158]   [0.561303998702607]\n",
       "Accuracy_moyenne  0.189972              0.658652              0.897368\n",
       "Accuracy_Faible   0.278244              0.769952              0.925878\n",
       "Accuracy_Forte    0.134262              0.548663              0.865395"
      ]
     },
     "execution_count": 85,
     "metadata": {},
     "output_type": "execute_result"
    }
   ],
   "source": [
    "score = []\n",
    "score.append(np.array(rfc_results[rfc_results.rank_test_f1_weighted==1]['mean_test_f1_weighted']))\n",
    "score.append(np.array(rfc_results[rfc_results.rank_test_f1_weighted==1]['mean_test_recall_weighted']))\n",
    "score.append(np.array(rfc_results[rfc_results.rank_test_f1_weighted==1]['mean_test_precision_weighted']))\n",
    "metrics_train(score, y_train, multi_rfc_cv.predict(X_train))\n",
    "Score['RandomForrest'] = score\n",
    "Score"
   ]
  },
  {
   "cell_type": "code",
   "execution_count": 86,
   "id": "2642cc89",
   "metadata": {},
   "outputs": [
    {
     "data": {
      "text/html": [
       "<div>\n",
       "<style scoped>\n",
       "    .dataframe tbody tr th:only-of-type {\n",
       "        vertical-align: middle;\n",
       "    }\n",
       "\n",
       "    .dataframe tbody tr th {\n",
       "        vertical-align: top;\n",
       "    }\n",
       "\n",
       "    .dataframe thead th {\n",
       "        text-align: right;\n",
       "    }\n",
       "</style>\n",
       "<table border=\"1\" class=\"dataframe\">\n",
       "  <thead>\n",
       "    <tr style=\"text-align: right;\">\n",
       "      <th></th>\n",
       "      <th>LDA</th>\n",
       "      <th>Logistic</th>\n",
       "      <th>RandomForrest</th>\n",
       "    </tr>\n",
       "  </thead>\n",
       "  <tbody>\n",
       "    <tr>\n",
       "      <th>F1</th>\n",
       "      <td>0.243540</td>\n",
       "      <td>0.645631</td>\n",
       "      <td>0.643256</td>\n",
       "    </tr>\n",
       "    <tr>\n",
       "      <th>Recall</th>\n",
       "      <td>0.184855</td>\n",
       "      <td>0.566892</td>\n",
       "      <td>0.798525</td>\n",
       "    </tr>\n",
       "    <tr>\n",
       "      <th>Precision</th>\n",
       "      <td>0.516554</td>\n",
       "      <td>0.762950</td>\n",
       "      <td>0.554744</td>\n",
       "    </tr>\n",
       "    <tr>\n",
       "      <th>Accuracy_moyenne</th>\n",
       "      <td>0.189164</td>\n",
       "      <td>0.610034</td>\n",
       "      <td>0.813656</td>\n",
       "    </tr>\n",
       "    <tr>\n",
       "      <th>Accuracy_Faible</th>\n",
       "      <td>0.280478</td>\n",
       "      <td>0.726035</td>\n",
       "      <td>0.876169</td>\n",
       "    </tr>\n",
       "    <tr>\n",
       "      <th>Accuracy_Forte</th>\n",
       "      <td>0.132599</td>\n",
       "      <td>0.497829</td>\n",
       "      <td>0.745157</td>\n",
       "    </tr>\n",
       "  </tbody>\n",
       "</table>\n",
       "</div>"
      ],
      "text/plain": [
       "                       LDA  Logistic  RandomForrest\n",
       "F1                0.243540  0.645631       0.643256\n",
       "Recall            0.184855  0.566892       0.798525\n",
       "Precision         0.516554  0.762950       0.554744\n",
       "Accuracy_moyenne  0.189164  0.610034       0.813656\n",
       "Accuracy_Faible   0.280478  0.726035       0.876169\n",
       "Accuracy_Forte    0.132599  0.497829       0.745157"
      ]
     },
     "execution_count": 86,
     "metadata": {},
     "output_type": "execute_result"
    }
   ],
   "source": [
    "Score_test = metrics_test('RandomForrest',Score_test, y_test, multi_rfc_cv.predict(X_test))\n",
    "Score_test"
   ]
  },
  {
   "cell_type": "raw",
   "id": "8dd6d519",
   "metadata": {},
   "source": [
    "Les performances de Random Forest semblent meilleurs sur toutes les métriques.\n",
    "\n",
    "Testons à présent le MLPClassifier."
   ]
  },
  {
   "cell_type": "markdown",
   "id": "bd0df592",
   "metadata": {},
   "source": [
    "## MLPClassifier"
   ]
  },
  {
   "cell_type": "code",
   "execution_count": 46,
   "id": "fc436c87",
   "metadata": {},
   "outputs": [
    {
     "name": "stdout",
     "output_type": "stream",
     "text": [
      "Best Score:  0.5615590592930018\n",
      "Best Params:  {'activation': 'relu', 'alpha': 0.1, 'hidden_layer_sizes': (100, 20), 'learning_rate_init': 0.001, 'max_iter': 1250, 'solver': 'adam'}\n"
     ]
    }
   ],
   "source": [
    "from sklearn.neural_network import MLPClassifier\n",
    "\n",
    "param_mlp = {\n",
    "    'hidden_layer_sizes': [(100,20),(50,10)],\n",
    "    'activation': ['relu'],\n",
    "    'solver': ['adam'],\n",
    "    'alpha': [0.0001, 0.05, 0.1],\n",
    "    'learning_rate_init': [0.001, 0.001, 0.01],\n",
    "    'max_iter': [1000,1250,1500]\n",
    "}\n",
    "\n",
    "multi_mlp_cv = GridSearchCV(MLPClassifier(),\n",
    "                            param_grid=param_mlp,\n",
    "                            n_jobs=-1,\n",
    "                            cv=5,\n",
    "                            scoring=\"f1_weighted\",\n",
    "                            return_train_score = True,\n",
    "                            refit=True,\n",
    "                            random_state=42)\n",
    "\n",
    "grid_result = multi_mlp_cv.fit(X_train[0:10000], y_train[0:10000])\n",
    "\n",
    "print('Best Score: ', grid_result.best_score_)\n",
    "print('Best Params: ', grid_result.best_params_)"
   ]
  },
  {
   "cell_type": "code",
   "execution_count": 89,
   "id": "b1713723",
   "metadata": {},
   "outputs": [
    {
     "name": "stdout",
     "output_type": "stream",
     "text": [
      "Best F1:  [0.64051492]\n",
      "Best Precision:  [0.73554374]\n",
      "Best Recall [0.58299172]\n"
     ]
    }
   ],
   "source": [
    "param_mlp_test = {\n",
    "    'hidden_layer_sizes': [(100, 20)],\n",
    "    'activation': ['relu'],\n",
    "    'solver': ['adam'],\n",
    "    'alpha': [0.1],\n",
    "    'learning_rate_init': [0.001],\n",
    "    'max_iter': [1250]\n",
    "}\n",
    "\n",
    "multi_mlp_cv = GridSearchCV(MLPClassifier(),\n",
    "                            param_grid=param_mlp_test,\n",
    "                            n_jobs=-1,\n",
    "                            cv=5,\n",
    "                            scoring=(\"f1_weighted\",\"precision_weighted\",\"recall_weighted\"),\n",
    "                            return_train_score = True,\n",
    "                            refit=\"f1_weighted\")\n",
    "\n",
    "grid_result = multi_mlp_cv.fit(X_train, y_train)\n",
    "\n",
    "mlp_results = pd.DataFrame.from_dict(grid_result.cv_results_)\n",
    "\n",
    "Estimator_mlp = multi_mlp_cv.best_estimator_\n",
    "\n",
    "print('Best F1: ', np.array(mlp_results[mlp_results.rank_test_f1_weighted==1]['mean_test_f1_weighted']))\n",
    "print('Best Precision: ', np.array(mlp_results[mlp_results.rank_test_f1_weighted==1]['mean_test_precision_weighted']))\n",
    "print('Best Recall', np.array(mlp_results[mlp_results.rank_test_f1_weighted==1]['mean_test_recall_weighted']))"
   ]
  },
  {
   "cell_type": "code",
   "execution_count": 90,
   "id": "695f27fe",
   "metadata": {},
   "outputs": [
    {
     "data": {
      "text/html": [
       "<div>\n",
       "<style scoped>\n",
       "    .dataframe tbody tr th:only-of-type {\n",
       "        vertical-align: middle;\n",
       "    }\n",
       "\n",
       "    .dataframe tbody tr th {\n",
       "        vertical-align: top;\n",
       "    }\n",
       "\n",
       "    .dataframe thead th {\n",
       "        text-align: right;\n",
       "    }\n",
       "</style>\n",
       "<table border=\"1\" class=\"dataframe\">\n",
       "  <thead>\n",
       "    <tr style=\"text-align: right;\">\n",
       "      <th></th>\n",
       "      <th>LDA</th>\n",
       "      <th>Logistic</th>\n",
       "      <th>RandomForrest</th>\n",
       "      <th>MLP</th>\n",
       "    </tr>\n",
       "  </thead>\n",
       "  <tbody>\n",
       "    <tr>\n",
       "      <th>F1</th>\n",
       "      <td>0.242853</td>\n",
       "      <td>[0.64604766156991]</td>\n",
       "      <td>[0.6460451608963717]</td>\n",
       "      <td>[0.6405149185151362]</td>\n",
       "    </tr>\n",
       "    <tr>\n",
       "      <th>Recall</th>\n",
       "      <td>0.183735</td>\n",
       "      <td>[0.5698993590697314]</td>\n",
       "      <td>[0.7919740964560849]</td>\n",
       "      <td>[0.5829917200546425]</td>\n",
       "    </tr>\n",
       "    <tr>\n",
       "      <th>Precision</th>\n",
       "      <td>0.514479</td>\n",
       "      <td>[0.7574333671958158]</td>\n",
       "      <td>[0.561303998702607]</td>\n",
       "      <td>[0.7355437422178224]</td>\n",
       "    </tr>\n",
       "    <tr>\n",
       "      <th>Accuracy_moyenne</th>\n",
       "      <td>0.189972</td>\n",
       "      <td>0.658652</td>\n",
       "      <td>0.897368</td>\n",
       "      <td>0.726794</td>\n",
       "    </tr>\n",
       "    <tr>\n",
       "      <th>Accuracy_Faible</th>\n",
       "      <td>0.278244</td>\n",
       "      <td>0.769952</td>\n",
       "      <td>0.925878</td>\n",
       "      <td>0.846347</td>\n",
       "    </tr>\n",
       "    <tr>\n",
       "      <th>Accuracy_Forte</th>\n",
       "      <td>0.134262</td>\n",
       "      <td>0.548663</td>\n",
       "      <td>0.865395</td>\n",
       "      <td>0.604266</td>\n",
       "    </tr>\n",
       "  </tbody>\n",
       "</table>\n",
       "</div>"
      ],
      "text/plain": [
       "                       LDA              Logistic         RandomForrest  \\\n",
       "F1                0.242853    [0.64604766156991]  [0.6460451608963717]   \n",
       "Recall            0.183735  [0.5698993590697314]  [0.7919740964560849]   \n",
       "Precision         0.514479  [0.7574333671958158]   [0.561303998702607]   \n",
       "Accuracy_moyenne  0.189972              0.658652              0.897368   \n",
       "Accuracy_Faible   0.278244              0.769952              0.925878   \n",
       "Accuracy_Forte    0.134262              0.548663              0.865395   \n",
       "\n",
       "                                   MLP  \n",
       "F1                [0.6405149185151362]  \n",
       "Recall            [0.5829917200546425]  \n",
       "Precision         [0.7355437422178224]  \n",
       "Accuracy_moyenne              0.726794  \n",
       "Accuracy_Faible               0.846347  \n",
       "Accuracy_Forte                0.604266  "
      ]
     },
     "execution_count": 90,
     "metadata": {},
     "output_type": "execute_result"
    }
   ],
   "source": [
    "score = []\n",
    "score.append(np.array(mlp_results[mlp_results.rank_test_f1_weighted==1]['mean_test_f1_weighted']))\n",
    "score.append(np.array(mlp_results[mlp_results.rank_test_f1_weighted==1]['mean_test_recall_weighted']))\n",
    "score.append(np.array(mlp_results[mlp_results.rank_test_f1_weighted==1]['mean_test_precision_weighted']))\n",
    "metrics_train(score, y_train, multi_mlp_cv.predict(X_train))\n",
    "Score['MLP'] = score\n",
    "Score"
   ]
  },
  {
   "cell_type": "code",
   "execution_count": 92,
   "id": "736843ce",
   "metadata": {},
   "outputs": [
    {
     "name": "stderr",
     "output_type": "stream",
     "text": [
      "C:\\Users\\antoi\\miniconda3\\envs\\Test\\lib\\site-packages\\sklearn\\metrics\\_classification.py:1248: UndefinedMetricWarning: Precision is ill-defined and being set to 0.0 in labels with no predicted samples. Use `zero_division` parameter to control this behavior.\n",
      "  _warn_prf(average, modifier, msg_start, len(result))\n"
     ]
    },
    {
     "data": {
      "text/html": [
       "<div>\n",
       "<style scoped>\n",
       "    .dataframe tbody tr th:only-of-type {\n",
       "        vertical-align: middle;\n",
       "    }\n",
       "\n",
       "    .dataframe tbody tr th {\n",
       "        vertical-align: top;\n",
       "    }\n",
       "\n",
       "    .dataframe thead th {\n",
       "        text-align: right;\n",
       "    }\n",
       "</style>\n",
       "<table border=\"1\" class=\"dataframe\">\n",
       "  <thead>\n",
       "    <tr style=\"text-align: right;\">\n",
       "      <th></th>\n",
       "      <th>LDA</th>\n",
       "      <th>Logistic</th>\n",
       "      <th>RandomForrest</th>\n",
       "      <th>MLP</th>\n",
       "    </tr>\n",
       "  </thead>\n",
       "  <tbody>\n",
       "    <tr>\n",
       "      <th>F1</th>\n",
       "      <td>0.243540</td>\n",
       "      <td>0.645631</td>\n",
       "      <td>0.643256</td>\n",
       "      <td>0.643271</td>\n",
       "    </tr>\n",
       "    <tr>\n",
       "      <th>Recall</th>\n",
       "      <td>0.184855</td>\n",
       "      <td>0.566892</td>\n",
       "      <td>0.798525</td>\n",
       "      <td>0.577899</td>\n",
       "    </tr>\n",
       "    <tr>\n",
       "      <th>Precision</th>\n",
       "      <td>0.516554</td>\n",
       "      <td>0.762950</td>\n",
       "      <td>0.554744</td>\n",
       "      <td>0.759067</td>\n",
       "    </tr>\n",
       "    <tr>\n",
       "      <th>Accuracy_moyenne</th>\n",
       "      <td>0.189164</td>\n",
       "      <td>0.610034</td>\n",
       "      <td>0.813656</td>\n",
       "      <td>0.621828</td>\n",
       "    </tr>\n",
       "    <tr>\n",
       "      <th>Accuracy_Faible</th>\n",
       "      <td>0.280478</td>\n",
       "      <td>0.726035</td>\n",
       "      <td>0.876169</td>\n",
       "      <td>0.744572</td>\n",
       "    </tr>\n",
       "    <tr>\n",
       "      <th>Accuracy_Forte</th>\n",
       "      <td>0.132599</td>\n",
       "      <td>0.497829</td>\n",
       "      <td>0.745157</td>\n",
       "      <td>0.504092</td>\n",
       "    </tr>\n",
       "  </tbody>\n",
       "</table>\n",
       "</div>"
      ],
      "text/plain": [
       "                       LDA  Logistic  RandomForrest       MLP\n",
       "F1                0.243540  0.645631       0.643256  0.643271\n",
       "Recall            0.184855  0.566892       0.798525  0.577899\n",
       "Precision         0.516554  0.762950       0.554744  0.759067\n",
       "Accuracy_moyenne  0.189164  0.610034       0.813656  0.621828\n",
       "Accuracy_Faible   0.280478  0.726035       0.876169  0.744572\n",
       "Accuracy_Forte    0.132599  0.497829       0.745157  0.504092"
      ]
     },
     "execution_count": 92,
     "metadata": {},
     "output_type": "execute_result"
    }
   ],
   "source": [
    "Score_test = metrics_test('MLP',Score_test, y_test, multi_mlp_cv.predict(X_test))\n",
    "Score_test"
   ]
  },
  {
   "cell_type": "raw",
   "id": "6349b68c",
   "metadata": {},
   "source": [
    "Les performances de MLP semblent inférieur à celle de Random Forrest"
   ]
  },
  {
   "cell_type": "markdown",
   "id": "5829c139",
   "metadata": {},
   "source": [
    "# Partie 4 : Sélection du modèle final"
   ]
  },
  {
   "cell_type": "raw",
   "id": "c648e0ef",
   "metadata": {},
   "source": [
    "Pour sélectionner notre modèle final, nous tracerons dans un premier temps les résultats obtenus sur les set de train. Notre Score Test est là pour confirmer notre choix plus que pour choisir notre modèle."
   ]
  },
  {
   "cell_type": "code",
   "execution_count": 139,
   "id": "0c75e3b8",
   "metadata": {},
   "outputs": [
    {
     "data": {
      "text/plain": [
       "<AxesSubplot:>"
      ]
     },
     "execution_count": 139,
     "metadata": {},
     "output_type": "execute_result"
    },
    {
     "data": {
      "image/png": "[encoded data removed]",
      "text/plain": [
       "<Figure size 432x288 with 1 Axes>"
      ]
     },
     "metadata": {
      "needs_background": "light"
     },
     "output_type": "display_data"
    }
   ],
   "source": [
    "Score.plot(kind=\"bar\", rot=30)"
   ]
  },
  {
   "cell_type": "raw",
   "id": "58ec38ec",
   "metadata": {},
   "source": [
    "Comme on peut voir sur cette histogramme, il est difficile de trouver un meilleur modèle grâce au scorede sklearn. Par contre lorsque l'on se focalise sur les métriques que nous avons créé, il semble plus évident que les performances de Random Forrest sont meilleures. Or nous avons le total contrôle sur ces métriques.\n",
    "\n",
    "Donc pour le choix du modèle, nous nous porterons sur Random Forrest"
   ]
  },
  {
   "cell_type": "code",
   "execution_count": 120,
   "id": "78099b47",
   "metadata": {},
   "outputs": [
    {
     "data": {
      "text/plain": [
       "<AxesSubplot:>"
      ]
     },
     "execution_count": 120,
     "metadata": {},
     "output_type": "execute_result"
    },
    {
     "data": {
      "image/png": "[encoded data removed]",
      "text/plain": [
       "<Figure size 432x288 with 1 Axes>"
      ]
     },
     "metadata": {
      "needs_background": "light"
     },
     "output_type": "display_data"
    }
   ],
   "source": [
    "Score_test.plot(kind=\"bar\", rot=30)"
   ]
  },
  {
   "cell_type": "raw",
   "id": "952f9868",
   "metadata": {},
   "source": [
    "Sur les données de Tests, il semble également que le meilleur modèle est bien Random Forrest. Cela condfirme ce qu'il semblait dans les résultats vis à vis du des données d'entrainement.\n",
    "Nous pouvons remarquer que même sur des données que notre algorithme n'a jamais rencontré, les performances sont déjà importantes."
   ]
  },
  {
   "cell_type": "raw",
   "id": "e86afe2f",
   "metadata": {},
   "source": [
    "Nous allons maintenant créer une classe qui permettra de tester nos algorithmes sur n'importe quelle question. Et nous enregistrerons ensuite nos modèles dans un Pickkles"
   ]
  },
  {
   "cell_type": "code",
   "execution_count": 140,
   "id": "b081c124",
   "metadata": {},
   "outputs": [],
   "source": [
    "class Question_Predicteur:\n",
    "    def __init__(self, TfidfVectorizer, MultiLabelBinarizer, Question_predicteur):\n",
    "        self.TfidfVectorizer = TfidfVectorizer\n",
    "        self.MultiLabelBinarizer = MultiLabelBinarizer\n",
    "        self.Question_predicteur = Question_predicteur\n",
    "\n",
    "    def predicte_Question(\n",
    "        self,\n",
    "        Question\n",
    "    ):\n",
    "        x  = BeautifulSoup(Question,\"lxml\").get_text()\n",
    "        x = x.encode(\"ascii\", \"ignore\").decode()\n",
    "        x = re.sub(\"\\'\\w+\", '', x)\n",
    "        x = re.sub('[^\\\\w\\\\s#]', '', x)\n",
    "        x = re.sub(r'http*\\S+', '', x)\n",
    "        x = re.sub(r'\\w*\\d+\\w*', '', x)\n",
    "        x = re.sub('\\s+', ' ', x)\n",
    "        x = x.lower()\n",
    "        \n",
    "        x = nltk.tokenize.word_tokenize(x)\n",
    "        \n",
    "        x = [word for word in x if word not in stop_words]\n",
    "        \n",
    "        x = wn.lemmatize(x)\n",
    "              \n",
    "        X_tfidf = self.TfidfVectorizer.transform(x)\n",
    "        \n",
    "        Tags_predict = self.Question_predicteur.predict(X_tfidf)\n",
    "        \n",
    "        Tags_predict = self.MultiLabelBinarizer.inverse_transform(Tags_predict)\n",
    "\n",
    "        return Tags_predict"
   ]
  },
  {
   "cell_type": "code",
   "execution_count": 141,
   "id": "d00b18da",
   "metadata": {},
   "outputs": [],
   "source": [
    "# On sauvegarde les différents estimateur\n",
    "\n",
    "import pickle\n",
    "\n",
    "Estimator = {\n",
    "    \"Tf-idf\" : vectorizer,\n",
    "    \"Multi-Label-Binarizer\" : multilabel_binarizer,\n",
    "    \"LogisticRegression\": Estimator_logit,\n",
    "    \"RandomForrestClassifier\" : Estimator_rfc,\n",
    "    \"MLPClassifier\" : Estimator_mlp\n",
    "}\n",
    "pickle.dump(Estimator, open(\"save.p\", \"wb\"))"
   ]
  }
 ],
 "metadata": {
  "kernelspec": {
   "display_name": "Python 3",
   "language": "python",
   "name": "python3"
  },
  "language_info": {
   "codemirror_mode": {
    "name": "ipython",
    "version": 3
   },
   "file_extension": ".py",
   "mimetype": "text/x-python",
   "name": "python",
   "nbconvert_exporter": "python",
   "pygments_lexer": "ipython3",
   "version": "3.9.5"
  },
  "toc": {
   "base_numbering": 1,
   "nav_menu": {},
   "number_sections": true,
   "sideBar": true,
   "skip_h1_title": false,
   "title_cell": "Table of Contents",
   "title_sidebar": "Contents",
   "toc_cell": false,
   "toc_position": {
    "height": "calc(100% - 180px)",
    "left": "10px",
    "top": "150px",
    "width": "384px"
   },
   "toc_section_display": true,
   "toc_window_display": true
  },
  "varInspector": {
   "cols": {
    "lenName": 16,
    "lenType": 16,
    "lenVar": 40
   },
   "kernels_config": {
    "python": {
     "delete_cmd_postfix": "",
     "delete_cmd_prefix": "del ",
     "library": "var_list.py",
     "varRefreshCmd": "print(var_dic_list())"
    },
    "r": {
     "delete_cmd_postfix": ") ",
     "delete_cmd_prefix": "rm(",
     "library": "var_list.r",
     "varRefreshCmd": "cat(var_dic_list()) "
    }
   },
   "position": {
    "height": "790px",
    "left": "1546px",
    "right": "20px",
    "top": "124px",
    "width": "350px"
   },
   "types_to_exclude": [
    "module",
    "function",
    "builtin_function_or_method",
    "instance",
    "_Feature"
   ],
   "window_display": true
  }
 },
 "nbformat": 4,
 "nbformat_minor": 5
}
